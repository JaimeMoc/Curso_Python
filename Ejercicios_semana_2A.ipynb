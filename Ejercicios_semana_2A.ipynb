{
  "nbformat": 4,
  "nbformat_minor": 0,
  "metadata": {
    "colab": {
      "provenance": []
    },
    "kernelspec": {
      "name": "python3",
      "display_name": "Python 3"
    },
    "language_info": {
      "name": "python"
    }
  },
  "cells": [
    {
      "cell_type": "markdown",
      "source": [
        "# Ejercicios con python.\n"
      ],
      "metadata": {
        "id": "iec79qZfvqsC"
      }
    },
    {
      "cell_type": "markdown",
      "source": [
        "Ejercios realizados durante la segunda semana del bootcamp Backend con python.\n",
        "\n",
        "Jaime Alberto Suarez Moctezuma."
      ],
      "metadata": {
        "id": "ZSck27QuVwpj"
      }
    },
    {
      "cell_type": "markdown",
      "source": [
        "##Ejercicio 1: Hola mundo.\n",
        "Escribir un programa que almacene la cadena ¡Hola Mundo! en una variable y luego muestre por pantalla el contenido de la variable."
      ],
      "metadata": {
        "id": "2CWFFRuSvvmj"
      }
    },
    {
      "cell_type": "code",
      "execution_count": null,
      "metadata": {
        "colab": {
          "base_uri": "https://localhost:8080/"
        },
        "id": "Bkyskp9PvmQv",
        "outputId": "fa822eef-fc50-4811-c4f1-7e2f666df944"
      },
      "outputs": [
        {
          "output_type": "stream",
          "name": "stdout",
          "text": [
            "Hola Mundo HubTech\n"
          ]
        }
      ],
      "source": [
        "hola_mundo = \"Hola Mundo HubTech\"\n",
        "print(hola_mundo)"
      ]
    },
    {
      "cell_type": "markdown",
      "source": [
        "##Ejercicio 2: Entradas por consola\n",
        "Escribir un programa que pregunte el nombre del usuario en la consola y después de que el usuario lo introduzca muestre por pantalla la cadena ¡Hola <nombre>!, donde <nombre> es el nombre que el usuario haya introducido."
      ],
      "metadata": {
        "id": "VMhvPcfdwIMb"
      }
    },
    {
      "cell_type": "code",
      "source": [
        "nombre = input(\"Hola, ¿Cuál es tu nombre?\")\n",
        "print(f\"¡¡Hola!!, {nombre} mucho gusto...\")"
      ],
      "metadata": {
        "colab": {
          "base_uri": "https://localhost:8080/"
        },
        "id": "M_aPfMsEwMJ9",
        "outputId": "42898ba2-c6fc-4244-bcf0-3ca0a2bc91b3"
      },
      "execution_count": null,
      "outputs": [
        {
          "output_type": "stream",
          "name": "stdout",
          "text": [
            "Hola, ¿Cuál es tu nombre?jaime\n",
            "¡¡Hola!!, jaime mucho gusto...\n"
          ]
        }
      ]
    },
    {
      "cell_type": "markdown",
      "source": [
        "## Ejercicio 3: Aprendiendo a contar\n",
        "Escribir un programa que pregunte el nombre del usuario en la consola y después de que el usuario lo introduzca muestre por pantalla <NOMBRE> tiene <n> letras, donde <NOMBRE> es el nombre de usuario en mayúsculas y <n> es el número de letras que tienen el nombre."
      ],
      "metadata": {
        "id": "PZdlqv-6wi94"
      }
    },
    {
      "cell_type": "code",
      "source": [
        "nombre = input(\"Hey, Ingresa tu nombre:\")\n",
        "cantidad_letras = len(nombre)\n",
        "nombre_mayuscula = nombre.upper()\n",
        "\n",
        "print(f\"El nombre es {nombre_mayuscula}, y esta conformado por {cantidad_letras} letras.\")"
      ],
      "metadata": {
        "colab": {
          "base_uri": "https://localhost:8080/"
        },
        "id": "JtEaJorGwoX-",
        "outputId": "c1dd5c0e-9825-4dde-d629-3cb420a9708c"
      },
      "execution_count": null,
      "outputs": [
        {
          "output_type": "stream",
          "name": "stdout",
          "text": [
            "Hey, Ingresa tu nombre:jaime\n",
            "El nombre es JAIME, y esta conformado por 5 letras.\n"
          ]
        }
      ]
    },
    {
      "cell_type": "markdown",
      "source": [
        "## Ejercicio 4: Al revés\n",
        "Escribir un programa que pida al usuario que introduzca una frase en la consola y muestre por pantalla la frase invertida."
      ],
      "metadata": {
        "id": "iG7ya39AyVk0"
      }
    },
    {
      "cell_type": "code",
      "source": [
        "frase = input(\"Hey, ingresa una frase corta:\")\n",
        "lista_frase = [frase]\n",
        "\n",
        "for lista_frase in lista_frase:\n",
        "  print(\"Procesando....\")\n",
        "  print(\"La frase al reves es:\")\n",
        "  print(lista_frase[::-1])"
      ],
      "metadata": {
        "colab": {
          "base_uri": "https://localhost:8080/"
        },
        "id": "5htHq45_ybOt",
        "outputId": "c6188bee-7f29-4e34-d2e0-41308d1fd28d"
      },
      "execution_count": null,
      "outputs": [
        {
          "output_type": "stream",
          "name": "stdout",
          "text": [
            "Hey, ingresa una frase corta:Hola\n",
            "Procesando....\n",
            "La frase al reves es:\n",
            "aloH\n"
          ]
        }
      ]
    },
    {
      "cell_type": "markdown",
      "source": [
        "## Ejercicio 5: Horas trabajadas\n",
        "Escribir un programa que pregunte al usuario por el número de horas trabajadas y el coste por hora. Después debe mostrar por pantalla la paga que le corresponde."
      ],
      "metadata": {
        "id": "_vbzySza2mXf"
      }
    },
    {
      "cell_type": "code",
      "source": [
        "print(\"Hey, ¿Que tal? Te ayudaremos con tu pago...\")\n",
        "horas = int(input(\"Ingresa las horas trabajadas: \"))\n",
        "coste = int(input(\"Ingresa el coste por hora trabajada:\"))\n",
        "\n",
        "sueldo = (horas*coste)\n",
        "print(f\"Tu sueldo es de: {sueldo}\")"
      ],
      "metadata": {
        "colab": {
          "base_uri": "https://localhost:8080/"
        },
        "id": "1TZcgHJ20NS2",
        "outputId": "cb77830a-b669-4f1f-b83d-8aafc861af10"
      },
      "execution_count": null,
      "outputs": [
        {
          "output_type": "stream",
          "name": "stdout",
          "text": [
            "Hey, ¿Que tal? Te ayudaremos con tu pago...\n",
            "Ingresa las horas trabajadas: 10\n",
            "Ingresa el coste por hora trabajada:100\n",
            "Tu sueldo es de: 1000\n"
          ]
        }
      ]
    },
    {
      "cell_type": "markdown",
      "source": [
        "## Ejercicio 6: IMC\n",
        "Escribir un programa que pida al usuario su peso (en kg) y estatura (en metros), calcule el índice de masa corporal y lo almacene en una variable, y muestre por pantalla la frase Tu índice de masa corporal es <imc> donde <imc> es el índice de masa corporal calculado redondeado con dos decimales."
      ],
      "metadata": {
        "id": "QNDotD894PWd"
      }
    },
    {
      "cell_type": "code",
      "source": [
        "print (\"Calcularemos tu índice de masa corporal.\")\n",
        "\n",
        "peso = int(input(\"Ingresa tu peso en KG: \"))\n",
        "estatura = float(input(\"Ingresa tu estatura en metros: \"))\n",
        "\n",
        "indice_masa_corporal = float(round(peso/estatura**2, 2))\n",
        "print(\"Calculando....\")\n",
        "print(f\"Tu índice de masa corporal redondeado con dos decimales es: {indice_masa_corporal}\")"
      ],
      "metadata": {
        "colab": {
          "base_uri": "https://localhost:8080/"
        },
        "id": "gVuh-1fh4S0T",
        "outputId": "af30202c-6227-4558-d43b-a008e669f4ae"
      },
      "execution_count": null,
      "outputs": [
        {
          "output_type": "stream",
          "name": "stdout",
          "text": [
            "Calcularemos tu índice de masa corporal.\n",
            "Ingresa tu peso en KG: 68\n",
            "Ingresa tu estatura en metros: 1.65\n",
            "Calculando....\n",
            "Tu índice de masa corporal redondeado con dos decimales es: 24.98\n"
          ]
        }
      ]
    },
    {
      "cell_type": "markdown",
      "source": [
        "## Ejercicio 7: Inversor\n",
        "Escribir un programa que pregunte al usuario una cantidad a invertir, el interés anual y el número de años, y muestre por pantalla el capital obtenido en la inversión."
      ],
      "metadata": {
        "id": "kx_0FrCu7TOe"
      }
    },
    {
      "cell_type": "code",
      "source": [
        "print (\"Hey, te ayudaremos a saber el capital obtenido en tu inversión.\")\n",
        "\n",
        "cantidad = int(input(\"Ingresa la cantidad a invertir: \"))\n",
        "interes_anual = int(input(\"Ingresa el interes anual de tu inversión: \"))\n",
        "numero_años = int(input(\"Ingresa el número de años de tu inversión: \"))\n",
        "\n",
        "capital = (cantidad * 1 + interes_anual**numero_años)\n",
        "print(f\"El capital de tu inversión es: {capital}\")"
      ],
      "metadata": {
        "colab": {
          "base_uri": "https://localhost:8080/"
        },
        "id": "lPQkdCo97Y94",
        "outputId": "ce1e1527-c39b-4be7-bd6d-11147de23f15"
      },
      "execution_count": null,
      "outputs": [
        {
          "output_type": "stream",
          "name": "stdout",
          "text": [
            "Hey, te ayudaremos a saber el capital obtenido en tu inversión.\n",
            "Ingresa la cantidad a invertir: 10\n",
            "Ingresa el interes anual de tu inversión: 20\n",
            "Ingresa el número de años de tu inversión: 5\n",
            "El capital de tu inversión es: 3200010\n"
          ]
        }
      ]
    },
    {
      "cell_type": "markdown",
      "source": [
        "## Ejercicio 8: Juguetería\n",
        "Una juguetería tiene mucho éxito en dos de sus productos: payasos y muñecas. Suele hacer venta por correo y la empresa de logística les cobra por peso de cada paquete así que deben calcular el peso de los payasos y muñecas que saldrán en cada paquete a demanda. Cada payaso pesa 112 g y cada muñeca 75 g. Escribir un programa que lea el número de payasos y muñecas vendidos en el último pedido y calcule el peso total del paquete que será enviado."
      ],
      "metadata": {
        "id": "TnUdtC2bkdGc"
      }
    },
    {
      "cell_type": "code",
      "source": [
        "print (\"Hola, te ayudaré a calcular el peso total del paquete que será enviado.\")\n",
        "\n",
        "numero_payasos = int(input(\"Hola, ingresa la cantidad de payasos vendidos en el paquete: \"))\n",
        "numero_muñecas = int(input(\"Ingresa la cantidad de muñecas vendidas en este paquete: \"))\n",
        "\n",
        "peso_payaso = 112\n",
        "peso_muñeca = 75\n",
        "\n",
        "peso_final_payaso = peso_payaso * numero_payasos\n",
        "peso_final_muñeca = peso_muñeca * numero_muñecas\n",
        "peso_total = peso_final_payaso + peso_final_muñeca\n",
        "\n",
        "print(f\"El peso total del pedido de las muñecas es: {peso_final_muñeca}\")\n",
        "print(f\"El peso total del pedido de los payasos es: {peso_final_payaso}\")\n",
        "print(f\"El peso total del pedido es: {peso_total}\")"
      ],
      "metadata": {
        "id": "QjQWeeu8kiOf",
        "colab": {
          "base_uri": "https://localhost:8080/"
        },
        "outputId": "fc5dec45-a105-469b-e06c-d53ada5ef32e"
      },
      "execution_count": null,
      "outputs": [
        {
          "output_type": "stream",
          "name": "stdout",
          "text": [
            "Hola, te ayudaré a calcular el peso total del paquete que será enviado.\n",
            "Hola, ingresa la cantidad de payasos vendidos en el paquete: 10\n",
            "Ingresa la cantidad de muñecas vendidas en este paquete: 20\n",
            "El peso total del pedido de las muñecas es: 1500\n",
            "El peso total del pedido de los payasos es: 1120\n",
            "El peso total del pedido es: 2620\n"
          ]
        }
      ]
    },
    {
      "cell_type": "markdown",
      "source": [
        "## Ejercicio 9: Conociendo las listas\n",
        "Ingresa los valores del 1 al 100 en una lista."
      ],
      "metadata": {
        "id": "gDdwzvwcbQE-"
      }
    },
    {
      "cell_type": "code",
      "source": [
        "i = 0 #Definimos la variable i.\n",
        "\n",
        "Lista = [] #Creamos la lista llamada \"Lista\".\n",
        "\n",
        "while i <100: #Creamos el bucle while.\n",
        "  i += 1\n",
        "  Lista.append(i)\n",
        "print(Lista)"
      ],
      "metadata": {
        "colab": {
          "base_uri": "https://localhost:8080/"
        },
        "id": "rvnGd053bVo2",
        "outputId": "c6cbe52c-0619-4076-c8c6-f6280df0a8e6"
      },
      "execution_count": null,
      "outputs": [
        {
          "output_type": "stream",
          "name": "stdout",
          "text": [
            "[1, 2, 3, 4, 5, 6, 7, 8, 9, 10, 11, 12, 13, 14, 15, 16, 17, 18, 19, 20, 21, 22, 23, 24, 25, 26, 27, 28, 29, 30, 31, 32, 33, 34, 35, 36, 37, 38, 39, 40, 41, 42, 43, 44, 45, 46, 47, 48, 49, 50, 51, 52, 53, 54, 55, 56, 57, 58, 59, 60, 61, 62, 63, 64, 65, 66, 67, 68, 69, 70, 71, 72, 73, 74, 75, 76, 77, 78, 79, 80, 81, 82, 83, 84, 85, 86, 87, 88, 89, 90, 91, 92, 93, 94, 95, 96, 97, 98, 99, 100]\n"
          ]
        }
      ]
    },
    {
      "cell_type": "markdown",
      "source": [
        "## Ejercicio 10: Diccionario Español – Inglés\n",
        "\n",
        "Crea un diccionario vacio y cargalo conforme el usuario vaya ingresando lo siguiente: una palabra en español y su traducción al inglés. En pocas palabras, crea tu propio diccionario de palabras en español-inglés.\n",
        "\n",
        "Mínimo 25 palabras.\n",
        "\n",
        "Eres libre de añadir lo que gustes, puedes incluir estadísticas como cuantos elementos contiene el diccionario, puedes hacer menús, darle un formato, lo que tu gustes, demuestra la mayor cantidad de integraciones posibles en base a los conocimientos que hemos adquirido hasta el momento.\n",
        "\n"
      ],
      "metadata": {
        "id": "JivUcbX7dxgU"
      }
    },
    {
      "cell_type": "code",
      "source": [
        "i = 0\n",
        "execute = True\n",
        "\n",
        "diccionario = {}\n",
        "\n",
        "palabra_español = input(\"Ingresa una palabra en español: \")\n",
        "palabra_ingles = input(\"Ingresa su traducción al inglés: \")\n",
        "\n",
        "while execute:\n",
        "  i = i+1\n",
        "  diccionario[palabra_español] = palabra_ingles\n",
        "  if i==25:\n",
        "    execute = False\n",
        "  else:\n",
        "    palabra_español = input(\"Ingresa una palabra en español: \")\n",
        "    palabra_ingles = input(\"Ingresa su traducción al inglés: \")\n",
        "\n",
        "print(diccionario)\n"
      ],
      "metadata": {
        "colab": {
          "base_uri": "https://localhost:8080/"
        },
        "id": "quKYE4Sod1kr",
        "outputId": "5fde5c49-d7a0-477c-e39e-ac56125f87f1"
      },
      "execution_count": null,
      "outputs": [
        {
          "output_type": "stream",
          "name": "stdout",
          "text": [
            "Ingresa una palabra en español: Hola\n",
            "Ingresa su traducción al inglés: Hi\n",
            "Ingresa una palabra en español: Hombre\n",
            "Ingresa su traducción al inglés: Man\n",
            "Ingresa una palabra en español: Mujer\n",
            "Ingresa su traducción al inglés: Woman\n",
            "Ingresa una palabra en español: Gato\n",
            "Ingresa su traducción al inglés: Cat\n",
            "Ingresa una palabra en español: Perro\n",
            "Ingresa su traducción al inglés: Dog\n",
            "Ingresa una palabra en español: Notebook\n",
            "Ingresa su traducción al inglés: Libreta\n",
            "Ingresa una palabra en español: Celular\n",
            "Ingresa su traducción al inglés: Phone\n",
            "Ingresa una palabra en español: Recibidor\n",
            "Ingresa su traducción al inglés: Counter\n",
            "Ingresa una palabra en español: Libro\n",
            "Ingresa su traducción al inglés: Book\n",
            "Ingresa una palabra en español: Camisa\n",
            "Ingresa su traducción al inglés: Tshirt\n",
            "Ingresa una palabra en español: Zorro\n",
            "Ingresa su traducción al inglés: Fox\n",
            "Ingresa una palabra en español: Pelicula\n",
            "Ingresa su traducción al inglés: MOvie\n",
            "Ingresa una palabra en español: Taza\n",
            "Ingresa su traducción al inglés: Cup\n",
            "Ingresa una palabra en español: Cafe\n",
            "Ingresa su traducción al inglés: Coffee\n",
            "Ingresa una palabra en español: Manzana\n",
            "Ingresa su traducción al inglés: Apple\n",
            "Ingresa una palabra en español: Espejo\n",
            "Ingresa su traducción al inglés: Mirror\n",
            "Ingresa una palabra en español: Color\n",
            "Ingresa su traducción al inglés: Colors\n",
            "Ingresa una palabra en español: Ventana\n",
            "Ingresa su traducción al inglés: Windows\n",
            "Ingresa una palabra en español: Adios\n",
            "Ingresa su traducción al inglés: Bye\n",
            "Ingresa una palabra en español: Decir\n",
            "Ingresa su traducción al inglés: Say\n",
            "Ingresa una palabra en español: Cantante\n",
            "Ingresa su traducción al inglés: Singer\n",
            "Ingresa una palabra en español: Artist\n",
            "Ingresa su traducción al inglés: Artistas\n",
            "Ingresa una palabra en español: Watercolor\n",
            "Ingresa su traducción al inglés: Acuarelas\n",
            "Ingresa una palabra en español: Tomatoes\n",
            "Ingresa su traducción al inglés: Tomates\n",
            "Ingresa una palabra en español: Dejar\n",
            "Ingresa su traducción al inglés: Leaves\n",
            "{'Hola': 'Hi', 'Hombre': 'Man', 'Mujer': 'Woman', 'Gato': 'Cat', 'Perro': 'Dog', 'Notebook': 'Libreta', 'Celular': 'Phone', 'Recibidor': 'Counter', 'Libro': 'Book', 'Camisa': 'Tshirt', 'Zorro': 'Fox', 'Pelicula': 'MOvie', 'Taza': 'Cup', 'Cafe': 'Coffee', 'Manzana': 'Apple', 'Espejo': 'Mirror', 'Color': 'Colors', 'Ventana': 'Windows', 'Adios': 'Bye', 'Decir': 'Say', 'Cantante': 'Singer', 'Artist': 'Artistas', 'Watercolor': 'Acuarelas', 'Tomatoes': 'Tomates', 'Dejar': 'Leaves'}\n"
          ]
        }
      ]
    },
    {
      "cell_type": "code",
      "source": [],
      "metadata": {
        "id": "28ienYhzgDab"
      },
      "execution_count": null,
      "outputs": []
    },
    {
      "cell_type": "markdown",
      "source": [
        "#Nivel 2: Entusiasta"
      ],
      "metadata": {
        "id": "eyd7qWXhf7Wo"
      }
    },
    {
      "cell_type": "markdown",
      "source": [
        "#Ejercicio 11: Cuenta de ahorros.\n",
        "\n",
        "Imagina que acabas de abrir una nueva cuenta de ahorros que te ofrece el 4% de interés al año. Estos ahorros debido a intereses, que no se cobran hasta finales de año, se te añaden al balance final de tu cuenta de ahorros. Escribir un programa que comience leyendo la cantidad de dinero depositada en la cuenta de ahorros, introducida por el usuario. Después el programa debe calcular y mostrar por pantalla la cantidad de ahorros tras el primer, segundo y tercer años. Redondear cada cantidad a dos decimales."
      ],
      "metadata": {
        "id": "ZfbHlaG-f9gC"
      }
    },
    {
      "cell_type": "code",
      "source": [
        "dinero_depositado = float(input(\"Ingresa la cantidad de dinero depositada en la cuenta de ahorros: \"))\n",
        "interes_anual = 0.04\n",
        "\n",
        "primer_año = round(dinero_depositado * (1 + interes_anual), 2)\n",
        "segundo_año = round(primer_año * (1 + interes_anual), 2)\n",
        "tercer_año = round(segundo_año * (1 + interes_anual), 2)\n",
        "cantidad_total = primer_año + segundo_año + tercer_año\n",
        "\n",
        "print(f\"El dinero ahorrado durante el primer año fue: {primer_año}\")\n",
        "print(f\"El dinero ahorrado durante el segundo año fue: {segundo_año}\")\n",
        "print(f\"El dinero ahorrado durante el tercer año fue: {tercer_año}\")\n",
        "print(f\"El dinero ahorrado durante los tres años fue: {cantidad_total}\")"
      ],
      "metadata": {
        "colab": {
          "base_uri": "https://localhost:8080/"
        },
        "id": "fkRtTPVAgEBa",
        "outputId": "1c6d6ec6-508e-40a0-a594-6fab0474941e"
      },
      "execution_count": null,
      "outputs": [
        {
          "output_type": "stream",
          "name": "stdout",
          "text": [
            "Ingresa la cantidad de dinero depositada en la cuenta de ahorros: 100\n",
            "El dinero ahorrado durante el primer año fue: 104.0\n",
            "El dinero ahorrado durante el segundo año fue: 108.16\n",
            "El dinero ahorrado durante el tercer año fue: 112.49\n",
            "El dinero ahorrado durante los tres años fue: 324.65\n"
          ]
        }
      ]
    },
    {
      "cell_type": "markdown",
      "source": [
        "## Ejercicio 12: Panaderia\n",
        "Una panadería vende barras de pan a 3.49€ cada una. El pan que no es del día tiene un descuento del 60%. Escribir un programa que comience leyendo el número de barras vendidas que no son del día. Después el programa debe mostrar el precio habitual de una barra de pan, el descuento que se le hace por no ser fresca y el coste final total."
      ],
      "metadata": {
        "id": "KKswSIffhwsK"
      }
    },
    {
      "cell_type": "code",
      "source": [
        "Barras = 3.49\n",
        "\n",
        "barras_vendidas = (int(input(\"Ingresa el número de barras vendidas que no son del dia: \")))\n",
        "print(f\"El precio habitual de una barra de pan es: {Barras} euros\")\n",
        "\n",
        "barra_con_descuento = 3.49 * 0.06\n",
        "\n",
        "print(f\"El precio del pan con descuento es de {barra_con_descuento} euros\")\n",
        "\n",
        "coste_final = barra_con_descuento * barras_vendidas\n",
        "\n",
        "print(f\"El coste final total es de: {coste_final} euros\")"
      ],
      "metadata": {
        "colab": {
          "base_uri": "https://localhost:8080/"
        },
        "id": "4aRMDMIlhvhV",
        "outputId": "f432941b-e2df-421d-ffbb-378a93a8fba4"
      },
      "execution_count": null,
      "outputs": [
        {
          "output_type": "stream",
          "name": "stdout",
          "text": [
            "Ingresa el número de barras vendidas que no son del dia: 10\n",
            "El precio habitual de una barra de pan es: 3.49 euros\n",
            "El precio del pan con descuento es de 0.2094 euros\n",
            "El coste final total es de: 2.094 euros\n"
          ]
        }
      ]
    },
    {
      "cell_type": "markdown",
      "source": [
        "##Ejercicio 13: Facturación e IVA\n",
        "Utilizando una función, calcule el total de una factura tras aplicarle el IVA. La función debe recibir la cantidad sin IVA y el porcentaje de IVA a aplicar, y devolver el total de la factura. Si se invoca la función sin pasarle el porcentaje de IVA, deberá aplicarse un 10%."
      ],
      "metadata": {
        "id": "zEVALRo0i6Nt"
      }
    },
    {
      "cell_type": "code",
      "source": [
        "def factura():\n",
        "  cantidad_a_pagar = float(input(\"Ingresa la cantidad que se va a pagar:\"))\n",
        "  cantidad_iva = float(input(\"Ingresa el porcentaje de IVA que se le va a aplicar: \"))\n",
        "\n",
        "  if cantidad_iva == 0:\n",
        "    cantidad_iva = 0.10\n",
        "\n",
        "  total = cantidad_iva * cantidad_a_pagar\n",
        "\n",
        "  print(f\"La cantidad a pagar es {cantidad_a_pagar}, el IVA que se le va a aplicar es de {cantidad_iva}, y el total a pagar es {total} .\")\n",
        "\n",
        "factura()"
      ],
      "metadata": {
        "colab": {
          "base_uri": "https://localhost:8080/"
        },
        "id": "VI0IhpET7X1y",
        "outputId": "34e4cf2c-6463-4647-b4d9-a16bcb342f89"
      },
      "execution_count": 27,
      "outputs": [
        {
          "output_type": "stream",
          "name": "stdout",
          "text": [
            "Ingresa la cantidad que se va a pagar:100\n",
            "Ingresa el porcentaje de IVA que se le va a aplicar: 20\n",
            "La cantidad a pagar es 100.0, el IVA que se le va a aplicar es de 20.0, y el total a pagar es 2000.0 .\n"
          ]
        }
      ]
    },
    {
      "cell_type": "markdown",
      "source": [
        "## Ejercicio 14: El cilindro\n",
        "Necesitamos calcular el volumen de un cilindro utilizando primero el resultado de calcular el área de la base, para ello te solicitamos lo hagas creando 2 funciones manejando el resultado final en base a con la primera función obtener el área y que la segunda opere en base al resultado de la primera. No puedes llamar a las 2 funciones en la linea fuera de la declaración de estas, solo puedes llamar a una."
      ],
      "metadata": {
        "id": "eOxAwqYb8zzI"
      }
    },
    {
      "cell_type": "code",
      "source": [
        "def area_de_la_base():\n",
        "  PI = 3.1416\n",
        "  radio = float(input(\"Ingresa el radio del cilindro: \"))\n",
        "  area = 2 * PI * (radio**2)\n",
        "  print(f\"El área del cilindro es de {area}.\")\n",
        "\n",
        "  def altura_del_cilindro():\n",
        "    altura = float(input(\"Ingresa la altura del cilindro: \"))\n",
        "    volumen = area * altura\n",
        "    print(f\"El volumen del cilindro es: {volumen}.\")\n",
        "\n",
        "  altura_del_cilindro()\n",
        "\n",
        "area_de_la_base()"
      ],
      "metadata": {
        "colab": {
          "base_uri": "https://localhost:8080/"
        },
        "id": "iIg0oXPn84MB",
        "outputId": "f09ff1f9-ef95-429b-8cae-c17a3223495d"
      },
      "execution_count": 11,
      "outputs": [
        {
          "output_type": "stream",
          "name": "stdout",
          "text": [
            "Ingresa el radio del cilindro: 10\n",
            "El área del cilindro es de 628.3199999999999.\n",
            "Ingresa la altura del cilindro: 20\n",
            "El volumen del cilindro es: 12566.399999999998.\n"
          ]
        }
      ]
    },
    {
      "cell_type": "markdown",
      "source": [
        "##Ejercicio 15: ¿+18? Ok pasa\n",
        "Escribir un programa que pregunte al usuario su edad y muestre por pantalla si es mayor de edad o no."
      ],
      "metadata": {
        "id": "2W5zXMny_Ku3"
      }
    },
    {
      "cell_type": "code",
      "source": [
        "edad = int(input(\"Ingresa tu edad:\"))\n",
        "\n",
        "if edad >= 18:\n",
        "  print(\"Hola, tienes 18 años o más puedes ingresar.\")\n",
        "else:\n",
        "  print(\"Upss lo siento, no puede ingresar.\")"
      ],
      "metadata": {
        "colab": {
          "base_uri": "https://localhost:8080/"
        },
        "id": "R_ZF6eaN_azN",
        "outputId": "10bb402f-31f1-43fb-e69e-1d2e6a39e121"
      },
      "execution_count": 13,
      "outputs": [
        {
          "output_type": "stream",
          "name": "stdout",
          "text": [
            "Ingresa tu edad:20\n",
            "Hola, tienes 18 años o más puedes ingresar.\n"
          ]
        }
      ]
    },
    {
      "cell_type": "markdown",
      "source": [
        "## Ejercicio 16: contraseña123\n",
        "Escribir un programa que almacene la cadena de caracteres contraseña en una variable, pregunte al usuario por la contraseña e imprima por pantalla si la contraseña introducida por el usuario coincide con la guardada en la variable sin tener en cuenta mayúsculas y minúsculas."
      ],
      "metadata": {
        "id": "tZWyfpK__9d1"
      }
    },
    {
      "cell_type": "code",
      "source": [
        "def contraseña():\n",
        "  contraseña_guardada = \"contraseña\"\n",
        "\n",
        "  respuesta = input(\"Ingresa la contraseña guardada: \")\n",
        "\n",
        "  if respuesta == contraseña_guardada:\n",
        "    print(\"La contraseña es correcta.\")\n",
        "  else:\n",
        "    print(\"La contraseña es incorrecta.\")\n",
        "\n",
        "contraseña()"
      ],
      "metadata": {
        "colab": {
          "base_uri": "https://localhost:8080/"
        },
        "id": "3Ye3gJkoACRG",
        "outputId": "3dc601f4-492f-465b-95ef-d4f7753ed93d"
      },
      "execution_count": 15,
      "outputs": [
        {
          "output_type": "stream",
          "name": "stdout",
          "text": [
            "Ingresa la contraseña guardada: perro\n",
            "La contraseña es incorrecta.\n"
          ]
        }
      ]
    },
    {
      "cell_type": "markdown",
      "source": [
        "## Ejercicio 17: Divisor\n",
        "Escribir un programa que pida al usuario dos números y muestre por pantalla su división. Si el divisor es cero el programa debe mostrar un error."
      ],
      "metadata": {
        "id": "nA028K3DA47G"
      }
    },
    {
      "cell_type": "code",
      "source": [
        "def numeros():\n",
        "    numero_uno = (int(input(\"Ingresa un número entero: \")))\n",
        "    numero_dos = (int(input(\"Ingresa un segundo número entero: \")))\n",
        "    division = numero_uno / numero_dos\n",
        "\n",
        "    if division == 0:\n",
        "      raise ValueError(\"El resultado no puede ser 0\")\n",
        "    else:\n",
        "      print(f\"El resultado de la división de ambos números es de {division}.\")\n",
        "\n",
        "numeros()"
      ],
      "metadata": {
        "colab": {
          "base_uri": "https://localhost:8080/"
        },
        "id": "PPZ2Qtk-A9Wt",
        "outputId": "f6193791-8cd4-45c9-80cc-761779dbaf36"
      },
      "execution_count": 18,
      "outputs": [
        {
          "output_type": "stream",
          "name": "stdout",
          "text": [
            "Ingresa un número entero: 10\n",
            "Ingresa un segundo número entero: 20\n",
            "El resultado de la división de ambos números es de 0.5.\n"
          ]
        }
      ]
    },
    {
      "cell_type": "markdown",
      "source": [
        "## Ejercicio 18: ¿Par o impar?\n",
        "Escribir un programa que pida al usuario un número entero y muestre por pantalla si es par o impar.\n",
        "\n"
      ],
      "metadata": {
        "id": "gr55mzy4CgIA"
      }
    },
    {
      "cell_type": "code",
      "source": [
        "def par():\n",
        "  numero = (int(input(\"Ingresa un número entero: \")))\n",
        "\n",
        "  if numero % 2 == 0:\n",
        "    print(f\"El número es {numero}, y es par.\")\n",
        "  else:\n",
        "    print(f\"El número es {numero}, y es impar.\")\n",
        "\n",
        "par()"
      ],
      "metadata": {
        "colab": {
          "base_uri": "https://localhost:8080/"
        },
        "id": "lx-RwVXTCj2m",
        "outputId": "09929b8a-8b49-4d4b-95b4-f70e22e085b0"
      },
      "execution_count": 19,
      "outputs": [
        {
          "output_type": "stream",
          "name": "stdout",
          "text": [
            "Ingresa un número entero: 10\n",
            "El número es 10, y es par.\n"
          ]
        }
      ]
    },
    {
      "cell_type": "markdown",
      "source": [
        "## Ejercicio 19: Contribuyente\n",
        "Para tributar un determinado impuesto se debe ser mayor de 18 años y tener unos ingresos iguales o superiores a 30000 MXN mensuales. Escribir un programa que pregunte al usuario su edad y sus ingresos mensuales y muestre por pantalla si el usuario tiene que tributar o no."
      ],
      "metadata": {
        "id": "3_lAIqOZDDTs"
      }
    },
    {
      "cell_type": "code",
      "source": [
        "def impuestos():\n",
        "  edad = (int(input(\"Ingresa tu edad: \")))\n",
        "  ingresos = (int(input(\"Ingresa tus ingresos mensuales en MXN: \")))\n",
        "\n",
        "  if edad >= 18 and ingresos >= 30000:\n",
        "    print(\"El usuario tiene que tributar.\")\n",
        "  else:\n",
        "    print(\"El usuario no es candidato a tributar.\")\n",
        "\n",
        "impuestos()"
      ],
      "metadata": {
        "colab": {
          "base_uri": "https://localhost:8080/"
        },
        "id": "Ui95J-cwDUmg",
        "outputId": "47c8c669-9296-4b75-8777-c4b84c8fae80"
      },
      "execution_count": 21,
      "outputs": [
        {
          "output_type": "stream",
          "name": "stdout",
          "text": [
            "Ingresa tu edad: 15\n",
            "Ingresa tus ingresos mensuales en MXN: 10000\n",
            "El usuario no es candidato a tributar.\n"
          ]
        }
      ]
    },
    {
      "cell_type": "markdown",
      "source": [
        "## Ejercicio 20: Grupos escolares\n",
        "Los alumnos de un curso se han dividido en dos grupos A y B de acuerdo al sexo y el nombre. El grupo A esta formado por las mujeres con un nombre anterior a la M y los hombres con un nombre posterior a la N y el grupo B por el resto. Escribir un programa que pregunte al usuario su nombre y sexo, y muestre por pantalla el grupo que le corresponde."
      ],
      "metadata": {
        "id": "yWFvYeaOD9ZA"
      }
    },
    {
      "cell_type": "code",
      "source": [
        "nombre = input(\"Ingresa tu nombre: \")\n",
        "sexo = input(\"Ingresa tu sexo, escribiendo (hombre o mujer): \")\n",
        "\n",
        "if sexo == \"mujer\" and nombre > \"M\" or sexo == \"hombre\" and nombre < \"N\":\n",
        "  print(\"Tu perteneces al grupo A.\")\n",
        "else:\n",
        "  print(\"Tu perteneces al grupo B.\")"
      ],
      "metadata": {
        "colab": {
          "base_uri": "https://localhost:8080/"
        },
        "id": "yALbsVVbEDW-",
        "outputId": "abb8372d-3754-439a-d266-6c723577bceb"
      },
      "execution_count": 24,
      "outputs": [
        {
          "output_type": "stream",
          "name": "stdout",
          "text": [
            "Ingresa tu nombre: zack\n",
            "Ingresa tu sexo: hombre\n",
            "Tu perteneces al grupo B.\n"
          ]
        }
      ]
    },
    {
      "cell_type": "markdown",
      "source": [
        "## Ejercicio 21: Sala de juegos\n",
        "Escribir un programa para una empresa que tiene salas de juegos para todas las edades y quiere calcular de forma automática el precio que debe cobrar a sus clientes por entrar. El programa debe preguntar al usuario la edad del cliente y mostrar el precio de la entrada. Si el cliente es menor de 4 años puede entrar gratis, si tiene entre 4 y 18 años debe pagar 50 MXN y si es mayor de 18 años, 200 MXN"
      ],
      "metadata": {
        "id": "SW3GYw3gFcrv"
      }
    },
    {
      "cell_type": "code",
      "source": [
        "edad = (int(input(\"Ingresa tu edad: \")))\n",
        "\n",
        "def cliente():\n",
        "  if edad < 4:\n",
        "    print(\"Puedes entrar gratis.\")\n",
        "  elif edad >= 4 and edad <= 18:\n",
        "    print(\"Debes pagar aproximadamente 50 MXN.\")\n",
        "  else:\n",
        "    print(\"Debes de pagar 200 MXN.\")\n",
        "\n",
        "cliente()"
      ],
      "metadata": {
        "colab": {
          "base_uri": "https://localhost:8080/"
        },
        "id": "G1Xkb13lFlwa",
        "outputId": "ff2d96d4-4356-4252-c00f-2e23b7c39764"
      },
      "execution_count": 35,
      "outputs": [
        {
          "output_type": "stream",
          "name": "stdout",
          "text": [
            "Ingresa tu edad: 20\n",
            "Debes de pagar 200 MXN.\n"
          ]
        }
      ]
    },
    {
      "cell_type": "markdown",
      "source": [
        "## Ejercicio 22: Pizzeria LoopGk\n",
        "La pizzería LoopGk ofrece pizzas vegetarianas y no vegetarianas a sus clientes. Los ingredientes para cada tipo de pizza aparecen a continuación.\n",
        "\n",
        "Ingredientes vegetarianos: Pimiento y tofu.\n",
        "Ingredientes no vegetarianos: Peperoni, Jamón y Salmón.\n",
        "Escribir un programa que pregunte al usuario si quiere una pizza vegetariana o no, y en función de su respuesta le muestre un menú con los ingredientes disponibles para que elija. Solo se puede eligir un ingrediente además de la mozzarella y el tomate que están en todas la pizzas. Al final se debe mostrar por pantalla si la pizza elegida es vegetariana o no y todos los ingredientes que lleva."
      ],
      "metadata": {
        "id": "mckmjfs4Io1K"
      }
    },
    {
      "cell_type": "code",
      "source": [
        "print(\"Hola, tenemos pizzas vegetarianas y no vegetarianas.\")\n",
        "eleccion = input(\"Ingresa el tipo de pizza a elegir: \")\n",
        "\n",
        "if eleccion == \"Vegetariana\":\n",
        "    print(\"Esta pizza está compuesta por pimientos y tofu.\")\n",
        "elif eleccion == \"No vegetariana\":\n",
        "    print(\"Esta pizza está compuesta por peperoni, jamón y salmón.\")\n",
        "else:\n",
        "    print(\"Opción no válida.\")\n",
        "\n",
        "respuesta = input(\"Puedes agregar un ingrediente extra (Mozzarela o tomate). ¿Quieres añadir un ingrediente extra? Y/N: \")\n",
        "\n",
        "if respuesta == \"Y\" and eleccion == \"Vegetariana\":\n",
        "    ingrediente_extra = input(\"Ingresa el ingrediente extra que deseas para tu pizza: \")\n",
        "    if ingrediente_extra == \"Mozzarela\":\n",
        "        print(\"Tu pizza está compuesta por mozzarella, pimientos, y tofu.\")\n",
        "    elif ingrediente_extra == \"Tomate\":\n",
        "        print(\"Tu pizza está compuesta por tomates, pimientos y tofu.\")\n",
        "    else:\n",
        "        print(\"Ingrediente extra no válido.\")\n",
        "elif respuesta == \"Y\" and eleccion == \"No vegetariana\":\n",
        "    ingrediente_extra = input(\"Ingresa el ingrediente extra que deseas para tu pizza: \")\n",
        "    if ingrediente_extra == \"Mozzarela\":\n",
        "        print(\"Tu pizza está compuesta por mozzarella, peperoni, jamón y salmón.\")\n",
        "    elif ingrediente_extra == \"Tomate\":\n",
        "        print(\"Tu pizza está compuesta por tomates, peperoni, jamón y salmón.\")\n",
        "    else:\n",
        "        print(\"Ingrediente extra no válido.\")\n",
        "else:\n",
        "    print(\"No se añadieron ingredientes extras.\")"
      ],
      "metadata": {
        "colab": {
          "base_uri": "https://localhost:8080/"
        },
        "id": "d4XatZwVIvvw",
        "outputId": "243f9722-fd53-4b36-a591-c34db986320a"
      },
      "execution_count": 43,
      "outputs": [
        {
          "output_type": "stream",
          "name": "stdout",
          "text": [
            "Hola, tenemos pizzas vegetarianas y no vegetarianas.\n",
            "Ingresa el tipo de pizza a elegir: Vegetariana\n",
            "Esta pizza está compuesta por pimientos y tofu.\n",
            "Puedes agregar un ingrediente extra (Mozzarela o tomate). ¿Quieres añadir un ingrediente extra? Y/N: Y\n",
            "Ingresa el ingrediente extra que deseas para tu pizza: Mozzarela\n",
            "Tu pizza está compuesta por mozzarella, pimientos, y tofu.\n"
          ]
        }
      ]
    },
    {
      "cell_type": "markdown",
      "source": [
        "# Nivel 3: Principiante"
      ],
      "metadata": {
        "id": "2mBYNkWZJFkv"
      }
    },
    {
      "cell_type": "markdown",
      "source": [
        "##Ejercicio 23: Estás imitándome\n",
        "Escribir un programa que pida al usuario una palabra y la muestre por pantalla 10 veces."
      ],
      "metadata": {
        "id": "u2d4aQ9hPNjb"
      }
    },
    {
      "cell_type": "code",
      "source": [
        "i = 0\n",
        "palabra = input(\"Ingresa una palabra: \")\n",
        "\n",
        "while i < 10:\n",
        "  i += 1\n",
        "  print(palabra)"
      ],
      "metadata": {
        "colab": {
          "base_uri": "https://localhost:8080/"
        },
        "id": "FU-uMXxfQPy9",
        "outputId": "8f53f1f6-818b-4706-b433-9749dde997d1"
      },
      "execution_count": 50,
      "outputs": [
        {
          "output_type": "stream",
          "name": "stdout",
          "text": [
            "Ingresa una palabra: hola\n",
            "hola\n",
            "hola\n",
            "hola\n",
            "hola\n",
            "hola\n",
            "hola\n",
            "hola\n",
            "hola\n",
            "hola\n",
            "hola\n"
          ]
        }
      ]
    },
    {
      "cell_type": "markdown",
      "source": [
        "##Ejercicio 24: Años cumplidos\n",
        "Escribir un programa que pregunte al usuario su edad y muestre por pantalla todos los años que ha cumplido (desde 1 hasta su edad)."
      ],
      "metadata": {
        "id": "AJkkUEpDQwDt"
      }
    },
    {
      "cell_type": "code",
      "source": [
        "edad = int(input(\"Ingresa tu edad: \"))\n",
        "i = 0\n",
        "\n",
        "while i < edad:\n",
        "  i += 1\n",
        "  print(f\"Años cumplidos: {i}, edad: {edad}\")"
      ],
      "metadata": {
        "colab": {
          "base_uri": "https://localhost:8080/"
        },
        "id": "xV857a79Q0AL",
        "outputId": "54c1a790-4046-46d5-e59a-b13aad2ed30f"
      },
      "execution_count": 55,
      "outputs": [
        {
          "output_type": "stream",
          "name": "stdout",
          "text": [
            "Ingresa tu edad: 10\n",
            "Años cumplidos: 1, edad: 10\n",
            "Años cumplidos: 2, edad: 10\n",
            "Años cumplidos: 3, edad: 10\n",
            "Años cumplidos: 4, edad: 10\n",
            "Años cumplidos: 5, edad: 10\n",
            "Años cumplidos: 6, edad: 10\n",
            "Años cumplidos: 7, edad: 10\n",
            "Años cumplidos: 8, edad: 10\n",
            "Años cumplidos: 9, edad: 10\n",
            "Años cumplidos: 10, edad: 10\n"
          ]
        }
      ]
    },
    {
      "cell_type": "markdown",
      "source": [
        "## Ejercicio 25: Cuenta atrás\n",
        "Escribir un programa que pida al usuario un número entero positivo y muestre por pantalla la cuenta atrás desde ese número hasta cero separados por comas."
      ],
      "metadata": {
        "id": "vqAA22T0RwKX"
      }
    },
    {
      "cell_type": "code",
      "source": [
        "numero_positivo_entero = int(input(\"Ingresa un número entero positivo: \"))\n",
        "\n",
        "while numero_positivo_entero > 0:\n",
        "  print(numero_positivo_entero, end=\",\")\n",
        "  numero_positivo_entero -= 1"
      ],
      "metadata": {
        "colab": {
          "base_uri": "https://localhost:8080/"
        },
        "id": "hZRQHdz9Ro_q",
        "outputId": "a0b38b22-b973-4ddb-e452-6843159e47b3"
      },
      "execution_count": 56,
      "outputs": [
        {
          "output_type": "stream",
          "name": "stdout",
          "text": [
            "Ingresa un número entero positivo: 10\n",
            "10,9,8,7,6,5,4,3,2,1,"
          ]
        }
      ]
    },
    {
      "cell_type": "markdown",
      "source": [
        "## Ejercicio 26: Triángulo\n",
        "Escribir un programa que pida al usuario un número entero y muestre por pantalla un triángulo rectángulo como el de más abajo, de altura el número introducido."
      ],
      "metadata": {
        "id": "AJ4kUJSNSTKQ"
      }
    },
    {
      "cell_type": "code",
      "source": [
        "numero_entero = int(input(\"Ingresa un número entero: \"))\n",
        "i = 1\n",
        "\n",
        "while i <= numero_entero:\n",
        "  print(\"*\" * i)\n",
        "  i += 1"
      ],
      "metadata": {
        "colab": {
          "base_uri": "https://localhost:8080/"
        },
        "id": "nMlTPtuWSYEz",
        "outputId": "9b293bfc-cbf8-442f-bb02-cf5c1c3efa5d"
      },
      "execution_count": 57,
      "outputs": [
        {
          "output_type": "stream",
          "name": "stdout",
          "text": [
            "Ingresa un número entero: 25\n",
            "*\n",
            "**\n",
            "***\n",
            "****\n",
            "*****\n",
            "******\n",
            "*******\n",
            "********\n",
            "*********\n",
            "**********\n",
            "***********\n",
            "************\n",
            "*************\n",
            "**************\n",
            "***************\n",
            "****************\n",
            "*****************\n",
            "******************\n",
            "*******************\n",
            "********************\n",
            "*********************\n",
            "**********************\n",
            "***********************\n",
            "************************\n",
            "*************************\n"
          ]
        }
      ]
    },
    {
      "cell_type": "markdown",
      "source": [
        "#Ejercicio 27: Tablas de multiplicar\n",
        "Escribir un programa que muestre por pantalla la tabla de multiplicar del 1 al 10."
      ],
      "metadata": {
        "id": "P3v6KkMKSo0x"
      }
    },
    {
      "cell_type": "code",
      "source": [
        "numero = int(input(\"Ingresa un número del 1 al 10: \"))\n",
        "i=0\n",
        "\n",
        "while i < 10:\n",
        "  i += 1\n",
        "  operacion = numero * i\n",
        "  print(f\" El numero {numero} multiplicado por {i} es igual a {operacion}\")\n"
      ],
      "metadata": {
        "colab": {
          "base_uri": "https://localhost:8080/"
        },
        "id": "hsbA7FIvSs2-",
        "outputId": "69a2d5c2-1d1c-4900-ef90-467de624af18"
      },
      "execution_count": 63,
      "outputs": [
        {
          "output_type": "stream",
          "name": "stdout",
          "text": [
            "Ingresa un número del 1 al 10: 8\n",
            " El numero 8 multiplicado por 1 es igual a 8\n",
            " El numero 8 multiplicado por 2 es igual a 16\n",
            " El numero 8 multiplicado por 3 es igual a 24\n",
            " El numero 8 multiplicado por 4 es igual a 32\n",
            " El numero 8 multiplicado por 5 es igual a 40\n",
            " El numero 8 multiplicado por 6 es igual a 48\n",
            " El numero 8 multiplicado por 7 es igual a 56\n",
            " El numero 8 multiplicado por 8 es igual a 64\n",
            " El numero 8 multiplicado por 9 es igual a 72\n",
            " El numero 8 multiplicado por 10 es igual a 80\n"
          ]
        }
      ]
    },
    {
      "cell_type": "markdown",
      "source": [
        "##Ejercicio 28: Ingresa la contraseña\n",
        "Escribir un programa que almacene la cadena de caracteres contraseña en una variable, pregunte al usuario por la contraseña hasta que introduzca la contraseña correcta."
      ],
      "metadata": {
        "id": "kBnqejg6SXZz"
      }
    },
    {
      "cell_type": "code",
      "source": [
        "contraseña_guardada = \"contraseña\"\n",
        "\n",
        "while True:\n",
        "  respuesta = input(\"Ingresa la contraseña almacenada: \")\n",
        "  if respuesta == contraseña_guardada:\n",
        "    print(\"La contraseña es correcta.\")\n",
        "    break\n",
        "  else:\n",
        "    print(\"La contraseña es incorrecta.Vuelve a intentarlo.\")"
      ],
      "metadata": {
        "colab": {
          "base_uri": "https://localhost:8080/"
        },
        "id": "1qOARq0KT53N",
        "outputId": "57bdc82a-d500-4922-b10a-123051a1270a"
      },
      "execution_count": 64,
      "outputs": [
        {
          "output_type": "stream",
          "name": "stdout",
          "text": [
            "Ingresa la contraseña almacenada: perro\n",
            "La contraseña es incorrecta.Vuelve a intentarlo.\n",
            "Ingresa la contraseña almacenada: gato\n",
            "La contraseña es incorrecta.Vuelve a intentarlo.\n",
            "Ingresa la contraseña almacenada: contraseña\n",
            "La contraseña es correcta.\n"
          ]
        }
      ]
    },
    {
      "cell_type": "markdown",
      "source": [
        "Ejercicio 29: Primo\n",
        "Escribir un programa que pida al usuario un número entero y muestre por pantalla si es un número primo o no."
      ],
      "metadata": {
        "id": "ctvHYze4UZxP"
      }
    },
    {
      "cell_type": "code",
      "source": [
        "def es_primo(numero):\n",
        "    if numero <= 1:\n",
        "        return False\n",
        "    for i in range(2, int(numero**0.5) + 1):\n",
        "        if numero % i == 0:\n",
        "            return False\n",
        "    return True\n",
        "\n",
        "numero = int(input(\"Ingresa un número entero: \"))\n",
        "\n",
        "if es_primo(numero):\n",
        "    print(f\"El número {numero} es primo.\")\n",
        "else:\n",
        "    print(f\"El número {numero} no es primo.\")"
      ],
      "metadata": {
        "colab": {
          "base_uri": "https://localhost:8080/"
        },
        "id": "1lCMN9bsUcwo",
        "outputId": "ab8a063e-3031-48e7-f767-be9e901e3c11"
      },
      "execution_count": 77,
      "outputs": [
        {
          "output_type": "stream",
          "name": "stdout",
          "text": [
            "Ingresa un número entero: 10\n",
            "El número 10 no es primo.\n"
          ]
        }
      ]
    },
    {
      "cell_type": "markdown",
      "source": [
        "## Ejercicio 30: Salir\n",
        "Escribir un programa que muestre el eco de todo lo que el usuario introduzca hasta que el usuario escriba “salir” que terminará."
      ],
      "metadata": {
        "id": "83lMrqDJVlRN"
      }
    },
    {
      "cell_type": "code",
      "source": [
        "while True:\n",
        "    entrada = input(\"Introduce algo: \")\n",
        "    if entrada.lower() == \"salir\":\n",
        "        break\n",
        "    print(entrada)"
      ],
      "metadata": {
        "colab": {
          "base_uri": "https://localhost:8080/"
        },
        "id": "VpYBbKhVVnzl",
        "outputId": "a8c874c1-4e12-4b13-c7a5-7261e51d356d"
      },
      "execution_count": 78,
      "outputs": [
        {
          "name": "stdout",
          "output_type": "stream",
          "text": [
            "Introduce algo: salir\n"
          ]
        }
      ]
    }
  ]
}