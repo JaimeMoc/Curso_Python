{
  "nbformat": 4,
  "nbformat_minor": 0,
  "metadata": {
    "colab": {
      "provenance": []
    },
    "kernelspec": {
      "name": "python3",
      "display_name": "Python 3"
    },
    "language_info": {
      "name": "python"
    }
  },
  "cells": [
    {
      "cell_type": "markdown",
      "source": [
        "Basic Data Types"
      ],
      "metadata": {
        "id": "fwlur1-HPL7p"
      }
    },
    {
      "cell_type": "markdown",
      "source": [
        "Defining a variable"
      ],
      "metadata": {
        "id": "oSKXJTXsPQYT"
      }
    },
    {
      "cell_type": "code",
      "source": [
        "x = 5"
      ],
      "metadata": {
        "id": "GwV0XhVzPV6B"
      },
      "execution_count": 1,
      "outputs": []
    },
    {
      "cell_type": "code",
      "source": [
        "print (x)"
      ],
      "metadata": {
        "colab": {
          "base_uri": "https://localhost:8080/"
        },
        "id": "b5yhEBFtPdNo",
        "outputId": "6f5c539b-91cc-4442-d0a7-5d614f62539d"
      },
      "execution_count": 2,
      "outputs": [
        {
          "output_type": "stream",
          "name": "stdout",
          "text": [
            "5\n"
          ]
        }
      ]
    },
    {
      "cell_type": "code",
      "source": [
        "x"
      ],
      "metadata": {
        "colab": {
          "base_uri": "https://localhost:8080/"
        },
        "id": "95daUfj3PghN",
        "outputId": "30cde5cc-e8f6-4dd0-b084-8197305fc9d6"
      },
      "execution_count": 3,
      "outputs": [
        {
          "output_type": "execute_result",
          "data": {
            "text/plain": [
              "5"
            ]
          },
          "metadata": {},
          "execution_count": 3
        }
      ]
    },
    {
      "cell_type": "markdown",
      "source": [
        "Variable inician con minusculas y no con números\n",
        "\n",
        "---\n",
        "\n"
      ],
      "metadata": {
        "id": "Zz6tO8R8P3Hs"
      }
    },
    {
      "cell_type": "markdown",
      "source": [
        "Declaración de una cadena."
      ],
      "metadata": {
        "id": "FZXAyul9QIhi"
      }
    },
    {
      "cell_type": "markdown",
      "source": [
        "Escritas entre comillas simples."
      ],
      "metadata": {
        "id": "vG_yhVUOQdK1"
      }
    },
    {
      "cell_type": "code",
      "source": [
        "name = 'Ryan'"
      ],
      "metadata": {
        "id": "1CWLvaiqP-Ma"
      },
      "execution_count": 4,
      "outputs": []
    },
    {
      "cell_type": "code",
      "source": [
        "type (name)"
      ],
      "metadata": {
        "colab": {
          "base_uri": "https://localhost:8080/"
        },
        "id": "c5lcQ54pQK-a",
        "outputId": "af1abeda-774d-4fd5-dea2-f6d6967a2544"
      },
      "execution_count": 5,
      "outputs": [
        {
          "output_type": "execute_result",
          "data": {
            "text/plain": [
              "str"
            ]
          },
          "metadata": {},
          "execution_count": 5
        }
      ]
    },
    {
      "cell_type": "markdown",
      "source": [
        "Devolver el tipo de dato con type"
      ],
      "metadata": {
        "id": "Jg3wD9KwQFav"
      }
    },
    {
      "cell_type": "markdown",
      "source": [
        "Es de tipo flotante porque es un flotador entre los decimales; que estan en la izq o der"
      ],
      "metadata": {
        "id": "pA9Bc7FBQxKf"
      }
    },
    {
      "cell_type": "code",
      "source": [
        "1.23455667"
      ],
      "metadata": {
        "id": "3im-Ft2WQnLm"
      },
      "execution_count": null,
      "outputs": []
    },
    {
      "cell_type": "code",
      "source": [
        "987675577.6"
      ],
      "metadata": {
        "id": "H7pTwmhPQr15"
      },
      "execution_count": null,
      "outputs": []
    },
    {
      "cell_type": "code",
      "execution_count": null,
      "metadata": {
        "colab": {
          "base_uri": "https://localhost:8080/"
        },
        "id": "7IEdP7otB8B-",
        "outputId": "23820ff3-532f-469b-9ffd-d7cebd39ffc0"
      },
      "outputs": [
        {
          "output_type": "execute_result",
          "data": {
            "text/plain": [
              "float"
            ]
          },
          "metadata": {},
          "execution_count": 1
        }
      ],
      "source": [
        "type(1.5)"
      ]
    },
    {
      "cell_type": "markdown",
      "source": [
        "Números complejos"
      ],
      "metadata": {
        "id": "0f3u4Xx9RAU8"
      }
    },
    {
      "cell_type": "markdown",
      "source": [
        "Representados con la letra j, la de ingenieria."
      ],
      "metadata": {
        "id": "DW_slV3VRDeD"
      }
    },
    {
      "cell_type": "code",
      "source": [
        "2j"
      ],
      "metadata": {
        "colab": {
          "base_uri": "https://localhost:8080/"
        },
        "id": "4jvZSAseRBul",
        "outputId": "333f3bc1-d147-4a93-c350-068010d9f2ec"
      },
      "execution_count": 6,
      "outputs": [
        {
          "output_type": "execute_result",
          "data": {
            "text/plain": [
              "2j"
            ]
          },
          "metadata": {},
          "execution_count": 6
        }
      ]
    },
    {
      "cell_type": "code",
      "source": [
        "1j * 1j"
      ],
      "metadata": {
        "colab": {
          "base_uri": "https://localhost:8080/"
        },
        "id": "Lfy93DIsRPj9",
        "outputId": "6c0425a1-9538-4dfc-91b0-51f3b0cb5fa5"
      },
      "execution_count": 7,
      "outputs": [
        {
          "output_type": "execute_result",
          "data": {
            "text/plain": [
              "(-1+0j)"
            ]
          },
          "metadata": {},
          "execution_count": 7
        }
      ]
    },
    {
      "cell_type": "markdown",
      "source": [
        "String + concatenación de cadenas."
      ],
      "metadata": {
        "id": "ab4akw-hCWXi"
      }
    },
    {
      "cell_type": "code",
      "source": [
        "'string 1 ' + 'string 2'"
      ],
      "metadata": {
        "colab": {
          "base_uri": "https://localhost:8080/",
          "height": 35
        },
        "id": "R4H1hKmiCJbU",
        "outputId": "93de8098-a70b-4671-a64f-61e3307e93ac"
      },
      "execution_count": null,
      "outputs": [
        {
          "output_type": "execute_result",
          "data": {
            "text/plain": [
              "'string 1 string 2'"
            ],
            "application/vnd.google.colaboratory.intrinsic+json": {
              "type": "string"
            }
          },
          "metadata": {},
          "execution_count": 3
        }
      ]
    },
    {
      "cell_type": "code",
      "source": [
        "'1' + '1'"
      ],
      "metadata": {
        "id": "cJZvWNONCViV",
        "colab": {
          "base_uri": "https://localhost:8080/",
          "height": 35
        },
        "outputId": "b8cddc47-afb0-4d60-b24e-935a7ecc944e"
      },
      "execution_count": 8,
      "outputs": [
        {
          "output_type": "execute_result",
          "data": {
            "text/plain": [
              "'11'"
            ],
            "application/vnd.google.colaboratory.intrinsic+json": {
              "type": "string"
            }
          },
          "metadata": {},
          "execution_count": 8
        }
      ]
    },
    {
      "cell_type": "markdown",
      "source": [
        "Es importante leer los errores que nos marca Python."
      ],
      "metadata": {
        "id": "xtUtDiyQRusE"
      }
    },
    {
      "cell_type": "markdown",
      "source": [
        "Boolean"
      ],
      "metadata": {
        "id": "rz-kJQC-R3VP"
      }
    },
    {
      "cell_type": "code",
      "source": [
        "True"
      ],
      "metadata": {
        "colab": {
          "base_uri": "https://localhost:8080/"
        },
        "id": "P8TOaUHRR4S3",
        "outputId": "ee7fa0eb-6c13-4206-d956-8d08c6631db0"
      },
      "execution_count": 10,
      "outputs": [
        {
          "output_type": "execute_result",
          "data": {
            "text/plain": [
              "True"
            ]
          },
          "metadata": {},
          "execution_count": 10
        }
      ]
    },
    {
      "cell_type": "code",
      "source": [
        "False"
      ],
      "metadata": {
        "colab": {
          "base_uri": "https://localhost:8080/"
        },
        "id": "IWj-TvJiR58R",
        "outputId": "98d2751b-3584-4ad4-fbf9-f2e1472d8cff"
      },
      "execution_count": 11,
      "outputs": [
        {
          "output_type": "execute_result",
          "data": {
            "text/plain": [
              "False"
            ]
          },
          "metadata": {},
          "execution_count": 11
        }
      ]
    },
    {
      "cell_type": "code",
      "source": [
        "true = True"
      ],
      "metadata": {
        "id": "zTIhSw1fR__L"
      },
      "execution_count": 12,
      "outputs": []
    },
    {
      "cell_type": "code",
      "source": [
        "1 == 1"
      ],
      "metadata": {
        "colab": {
          "base_uri": "https://localhost:8080/"
        },
        "id": "xZ_1zms2SGdO",
        "outputId": "c0505703-4ca7-4253-fc12-deb855b57523"
      },
      "execution_count": 13,
      "outputs": [
        {
          "output_type": "execute_result",
          "data": {
            "text/plain": [
              "True"
            ]
          },
          "metadata": {},
          "execution_count": 13
        }
      ]
    },
    {
      "cell_type": "markdown",
      "source": [
        "Doble signo igual es una declaración"
      ],
      "metadata": {
        "id": "OaEUELMVSI-u"
      }
    },
    {
      "cell_type": "code",
      "source": [
        "1 == 2"
      ],
      "metadata": {
        "colab": {
          "base_uri": "https://localhost:8080/"
        },
        "id": "59yqHx5FSMdg",
        "outputId": "6d361aca-a744-4496-aa9a-93a351c6ccaf"
      },
      "execution_count": 14,
      "outputs": [
        {
          "output_type": "execute_result",
          "data": {
            "text/plain": [
              "False"
            ]
          },
          "metadata": {},
          "execution_count": 14
        }
      ]
    }
  ]
}