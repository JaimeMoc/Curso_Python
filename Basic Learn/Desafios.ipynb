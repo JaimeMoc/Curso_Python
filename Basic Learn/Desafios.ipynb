{
  "nbformat": 4,
  "nbformat_minor": 0,
  "metadata": {
    "colab": {
      "provenance": []
    },
    "kernelspec": {
      "name": "python3",
      "display_name": "Python 3"
    },
    "language_info": {
      "name": "python"
    }
  },
  "cells": [
    {
      "cell_type": "markdown",
      "source": [
        "Si nunca has programado nunca este desafio puede ser desalentador, es posible que quedes mirando fijamente el código sin escribir.\n",
        "Relajate, es normal, no es porque no hayas aprendido nada de Python o porque no estes preparado para el desafio."
      ],
      "metadata": {
        "id": "FEr7lHjg_J6F"
      }
    },
    {
      "cell_type": "markdown",
      "source": [
        "Escribir uh código es extraño de decifrar en nuestro cerebro. Necesitamos prácticas. Dedicar más tiempo en aprender y comprender el problema.\n",
        "\n",
        "Creo desafios que incluyen temas de matematicas y ciencias de la computación que surgen con frecuencia en la programación.\n",
        "\n",
        "Leer adecuadamente.\n",
        "Buscar otros recursos de aprendizahe.\n",
        "Se permite un boton de busqueda. Surgerencias.\n"
      ],
      "metadata": {
        "id": "nVZGUcYu_D1F"
      }
    }
  ]
}