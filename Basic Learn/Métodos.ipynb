{
  "nbformat": 4,
  "nbformat_minor": 0,
  "metadata": {
    "colab": {
      "provenance": []
    },
    "kernelspec": {
      "name": "python3",
      "display_name": "Python 3"
    },
    "language_info": {
      "name": "python"
    }
  },
  "cells": [
    {
      "cell_type": "markdown",
      "source": [
        "# Métodos"
      ],
      "metadata": {
        "id": "HMMGQbEEDwWv"
      }
    },
    {
      "cell_type": "markdown",
      "source": [
        "* En Python todo son objetos.\n",
        "* En Python, una cadena de caracteres es mucho más que una secuencia de caracteres, y un número es más que un solo número.\n",
        "\n",
        "Los Métodos son como objetos que pueden hacer cosas, como si tuvieran funciones incorporadas."
      ],
      "metadata": {
        "id": "-bQR0e7JD1H6"
      }
    },
    {
      "cell_type": "code",
      "execution_count": 1,
      "metadata": {
        "colab": {
          "base_uri": "https://localhost:8080/"
        },
        "id": "VwW9n2hCDrtb",
        "outputId": "732dd073-a97f-4ec6-9583-9f5ba0110406"
      },
      "outputs": [
        {
          "output_type": "stream",
          "name": "stdout",
          "text": [
            "CADENA DE TEXTO\n"
          ]
        }
      ],
      "source": [
        "# Método para pasar el texto a mayuscula.\n",
        "mayuscula = \"cadena de texto\".upper()\n",
        "print(mayuscula)"
      ]
    },
    {
      "cell_type": "code",
      "source": [
        "print(\"Cadena de texto\".upper())\n",
        "\n",
        "texto = \"cadena de texto\"\n",
        "print(texto.upper())\n",
        "\n",
        "mayuscula = texto.upper()\n",
        "print (mayuscula)"
      ],
      "metadata": {
        "colab": {
          "base_uri": "https://localhost:8080/"
        },
        "id": "P59-bHPfEqm8",
        "outputId": "11e0db51-d38a-4edd-9bc0-149409a7f302"
      },
      "execution_count": 2,
      "outputs": [
        {
          "output_type": "stream",
          "name": "stdout",
          "text": [
            "CADENA DE TEXTO\n",
            "CADENA DE TEXTO\n",
            "CADENA DE TEXTO\n"
          ]
        }
      ]
    },
    {
      "cell_type": "markdown",
      "source": [
        "* Cada tipo de objeto tienen sus propios métodos.\n",
        "* Un objeto es una forma de agrupar datos y cosas que se pueden hacer con estos datos."
      ],
      "metadata": {
        "id": "n0wJZ5OaE7ec"
      }
    },
    {
      "cell_type": "markdown",
      "source": [
        "## Ejemplo de \"Todo conjunto\""
      ],
      "metadata": {
        "id": "Fk5Hr5ZrFVV4"
      }
    },
    {
      "cell_type": "code",
      "source": [
        "#Ejemplo que muestra la forma de trabajo con variables, objetos y funciones.\n",
        "#Función para leer un archivo.\n",
        "f = open('archivo.txt')\n",
        "texto = f.read()\n",
        "f.close()\n",
        "# Imprimos el resultado.\n",
        "print(texto)"
      ],
      "metadata": {
        "id": "wTyIgHYFFZry"
      },
      "execution_count": null,
      "outputs": []
    },
    {
      "cell_type": "markdown",
      "source": [
        "Función Open para poder abrir un archivo cuya ruta y nombre se pasan como argumentos.\n",
        "**Nota**: El archivo \"archivo.txt\" se debe de ubicar en el mismo directorio."
      ],
      "metadata": {
        "id": "tmKGHTH1Fxkz"
      }
    },
    {
      "cell_type": "code",
      "source": [],
      "metadata": {
        "id": "ydUKvrceGBCE"
      },
      "execution_count": null,
      "outputs": []
    }
  ]
}