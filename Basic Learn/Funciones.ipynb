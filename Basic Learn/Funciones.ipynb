{
  "nbformat": 4,
  "nbformat_minor": 0,
  "metadata": {
    "colab": {
      "provenance": []
    },
    "kernelspec": {
      "name": "python3",
      "display_name": "Python 3"
    },
    "language_info": {
      "name": "python"
    }
  },
  "cells": [
    {
      "cell_type": "markdown",
      "source": [
        " # Funciones\n",
        "\n"
      ],
      "metadata": {
        "id": "-w3OKYibpp2h"
      }
    },
    {
      "cell_type": "markdown",
      "source": [
        "Una función puede ser considerada como una máquina."
      ],
      "metadata": {
        "id": "yIvyehzVpuEs"
      }
    },
    {
      "cell_type": "markdown",
      "source": [
        "Print is a function"
      ],
      "metadata": {
        "id": "YoqyaGqHqM2C"
      }
    },
    {
      "cell_type": "code",
      "execution_count": 1,
      "metadata": {
        "colab": {
          "base_uri": "https://localhost:8080/"
        },
        "id": "cAujnjp3plMi",
        "outputId": "60db18ee-c2df-4d15-da39-0e000b59c630"
      },
      "outputs": [
        {
          "output_type": "stream",
          "name": "stdout",
          "text": [
            "Hello world\n"
          ]
        }
      ],
      "source": [
        "print (\"Hello world\")"
      ]
    },
    {
      "cell_type": "markdown",
      "source": [
        "Podemos definir nuestras propias funciones. Es un poco como definir variables.\n"
      ],
      "metadata": {
        "id": "vk5kYVLVqYUt"
      }
    },
    {
      "cell_type": "markdown",
      "source": [
        "Misma reglas que para variables, comienzan con letras minusculas, usamos la palabra reservada \"Def\", que proviene de definición."
      ],
      "metadata": {
        "id": "Zjd-bFBOrUzk"
      }
    },
    {
      "cell_type": "code",
      "source": [
        "def multiplyByThree(val):\n",
        "  return 3 * val\n",
        "\n",
        "multiplyByThree(5)"
      ],
      "metadata": {
        "colab": {
          "base_uri": "https://localhost:8080/"
        },
        "id": "G3uYgwTNqaeI",
        "outputId": "4aa10513-d2c4-4503-a65c-0802d98bdd79"
      },
      "execution_count": 3,
      "outputs": [
        {
          "output_type": "execute_result",
          "data": {
            "text/plain": [
              "15"
            ]
          },
          "metadata": {},
          "execution_count": 3
        }
      ]
    },
    {
      "cell_type": "code",
      "source": [
        "def multiply(val1, val2):\n",
        "  return val1 * val2\n",
        "\n",
        "multiply(5, 3)"
      ],
      "metadata": {
        "colab": {
          "base_uri": "https://localhost:8080/"
        },
        "id": "wlB4TJFSsN4r",
        "outputId": "c2c4043f-c436-4a14-8845-831b4b8a60e6"
      },
      "execution_count": 4,
      "outputs": [
        {
          "output_type": "execute_result",
          "data": {
            "text/plain": [
              "15"
            ]
          },
          "metadata": {},
          "execution_count": 4
        }
      ]
    },
    {
      "cell_type": "markdown",
      "source": [
        "En nuestro parentes ponemos los nombres de las variables para los argumentos que queremos. Val por valor.\n",
        "\n",
        "Las funciones generalmente devuelven cosas y lo que estamos devolviendo es tres veces el valor que pasamos a la función."
      ],
      "metadata": {
        "id": "1dqByLWZrsEa"
      }
    },
    {
      "cell_type": "markdown",
      "source": [
        "Las funciones no siempre tienen que devolver nada. Por ejemplos hacer una función silenciosa."
      ],
      "metadata": {
        "id": "c8x1Eg4xsZAF"
      }
    },
    {
      "cell_type": "code",
      "source": [
        "a = [1,2,3]\n",
        "\n",
        "def appendFour(myList):\n",
        "  myList.append(4)\n",
        "\n",
        "appendFour(a)\n",
        "print(a)"
      ],
      "metadata": {
        "colab": {
          "base_uri": "https://localhost:8080/"
        },
        "id": "Dcmtz-rZqSn2",
        "outputId": "2eceb355-c44e-4719-a5a6-33dee9d784ac"
      },
      "execution_count": 9,
      "outputs": [
        {
          "output_type": "stream",
          "name": "stdout",
          "text": [
            "[1, 2, 3, 4]\n"
          ]
        }
      ]
    },
    {
      "cell_type": "markdown",
      "source": [
        "Esta función no devolvia nada, pero si hacia una acción. La función print como tal, no devuelve nada.\n",
        "\n",
        "None es una palabra clave especial de python, que viene signficando lo mismo que un null.\n",
        "\n",
        "Representa la ausencia del valor. Tiene su propio tipo, el tipo ninguno.\n"
      ],
      "metadata": {
        "id": "PtWgh2nus4Ft"
      }
    }
  ]
}