{
 "cells": [
  {
   "cell_type": "markdown",
   "id": "76545e03",
   "metadata": {},
   "source": [
    "# Funciones especiales en Python."
   ]
  },
  {
   "cell_type": "markdown",
   "id": "e7c3c533",
   "metadata": {},
   "source": [
    "### Función print\n",
    "\n",
    "Imprime en la pantalla lo que se le esta pasando como argumento. \n",
    "En el caso de una cadena de caracteres como argumento, es a lo que se le conoce como sentencia. "
   ]
  },
  {
   "cell_type": "code",
   "execution_count": 1,
   "id": "6b521149",
   "metadata": {
    "scrolled": true
   },
   "outputs": [
    {
     "name": "stdout",
     "output_type": "stream",
     "text": [
      "Hola mundo\n"
     ]
    }
   ],
   "source": [
    "print(\"Hola mundo\")"
   ]
  },
  {
   "cell_type": "markdown",
   "id": "8681b18b",
   "metadata": {},
   "source": [
    "### Reglas de la programación estructurada. "
   ]
  },
  {
   "cell_type": "markdown",
   "id": "eb8cffe2",
   "metadata": {},
   "source": [
    "1.- Las instrucciones de un programa se ejecutan una a una de arriba hacia abajo.  "
   ]
  },
  {
   "cell_type": "markdown",
   "id": "52b9e58e",
   "metadata": {},
   "source": [
    "### Variables"
   ]
  },
  {
   "cell_type": "markdown",
   "id": "42d84328",
   "metadata": {},
   "source": [
    "Una variable no es más que un nombre que le ponemos a algo. Una variable o nombre se asigna escribiendolo seguido de \"=\", y del objeto que se refiere de este modo."
   ]
  },
  {
   "cell_type": "code",
   "execution_count": 2,
   "id": "d104e9c1",
   "metadata": {},
   "outputs": [
    {
     "name": "stdout",
     "output_type": "stream",
     "text": [
      "Hola mundo\n",
      "Esto es un saludo\n",
      "Hola mundo\n"
     ]
    }
   ],
   "source": [
    "texto = \"Hola mundo\"\n",
    "print(texto)\n",
    "print(\"Esto es un saludo\")\n",
    "print(texto)"
   ]
  },
  {
   "cell_type": "markdown",
   "id": "ef419fb1",
   "metadata": {},
   "source": [
    "Las expresiones \"asignar la cadena X a la variable Y\" es lo mismo de \"Poner el nombre Y a la cadena X\". El intérprete de Python sabe que algo es una cadena de texto y un nombre o cualquier otro elemento porque lo ponemos entre comillas. "
   ]
  },
  {
   "cell_type": "code",
   "execution_count": 7,
   "id": "1daf02c3",
   "metadata": {},
   "outputs": [
    {
     "name": "stdout",
     "output_type": "stream",
     "text": [
      "9\n"
     ]
    }
   ],
   "source": [
    "# Impresión de una operación matematica.  \n",
    "print (4 + 5) "
   ]
  },
  {
   "cell_type": "code",
   "execution_count": 6,
   "id": "cf063005",
   "metadata": {},
   "outputs": [
    {
     "name": "stdout",
     "output_type": "stream",
     "text": [
      "40\n"
     ]
    }
   ],
   "source": [
    "# Asignación de una variable a elementos númericos.\n",
    "suma = 5 + 15+ 20 \n",
    "print (suma)"
   ]
  },
  {
   "cell_type": "markdown",
   "id": "f5a73c4d",
   "metadata": {},
   "source": [
    "A las sentencias que, como esta, retornan un resultado llamado **\"Expresiones\"**."
   ]
  },
  {
   "cell_type": "markdown",
   "id": "03f75458",
   "metadata": {},
   "source": [
    "### Excepciones "
   ]
  },
  {
   "cell_type": "markdown",
   "id": "265e05b2",
   "metadata": {},
   "source": [
    "\"NameError\" identifica el tipo de error y que es lo que llamamos una expeción. Cada vez que Python encuentre un problema en el programa que le impida continuar, emitirá una excepción y se detendrá. \n",
    "\n",
    "Podremos usar en nuestro código estas excepciones para controlar nuestros programas y sus errores. "
   ]
  },
  {
   "cell_type": "code",
   "execution_count": 4,
   "id": "0c442cb9",
   "metadata": {},
   "outputs": [
    {
     "ename": "IndentationError",
     "evalue": "unexpected indent (1668342348.py, line 2)",
     "output_type": "error",
     "traceback": [
      "\u001b[1;36m  Cell \u001b[1;32mIn[4], line 2\u001b[1;36m\u001b[0m\n\u001b[1;33m    print(texto)\u001b[0m\n\u001b[1;37m    ^\u001b[0m\n\u001b[1;31mIndentationError\u001b[0m\u001b[1;31m:\u001b[0m unexpected indent\n"
     ]
    }
   ],
   "source": [
    "# Error: Excepción IndentationError\n",
    "texto = (\"Hola mundo\")\n",
    " print(texto) "
   ]
  },
  {
   "cell_type": "markdown",
   "id": "b9dbd7ec",
   "metadata": {},
   "source": [
    "La identación (Sangria) tiene un significado en Python. Cualquier pequeño error de indentado es un desastre casi seguro."
   ]
  },
  {
   "cell_type": "code",
   "execution_count": null,
   "id": "d91ac2c0",
   "metadata": {},
   "outputs": [],
   "source": []
  }
 ],
 "metadata": {
  "kernelspec": {
   "display_name": "Python 3 (ipykernel)",
   "language": "python",
   "name": "python3"
  },
  "language_info": {
   "codemirror_mode": {
    "name": "ipython",
    "version": 3
   },
   "file_extension": ".py",
   "mimetype": "text/x-python",
   "name": "python",
   "nbconvert_exporter": "python",
   "pygments_lexer": "ipython3",
   "version": "3.11.5"
  }
 },
 "nbformat": 4,
 "nbformat_minor": 5
}
