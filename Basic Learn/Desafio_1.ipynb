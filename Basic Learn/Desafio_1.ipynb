{
  "nbformat": 4,
  "nbformat_minor": 0,
  "metadata": {
    "colab": {
      "provenance": []
    },
    "kernelspec": {
      "name": "python3",
      "display_name": "Python 3"
    },
    "language_info": {
      "name": "python"
    }
  },
  "cells": [
    {
      "cell_type": "markdown",
      "source": [
        "# Desafio 1"
      ],
      "metadata": {
        "id": "ziRwTWPYbwu-"
      }
    },
    {
      "cell_type": "markdown",
      "source": [
        "Creación de un algoritmo que calcule el factorial de un número."
      ],
      "metadata": {
        "id": "12puMe0DceSQ"
      }
    },
    {
      "cell_type": "code",
      "execution_count": null,
      "metadata": {
        "id": "MYSvrBcPbvHy"
      },
      "outputs": [],
      "source": [
        "# Programa que crea el factorial.\n",
        "\n",
        "# Creación de la función \"Factorial\".\n",
        "def factorial(n):\n",
        "    # Condicional if, mediante los atributos de n e int.\n",
        "    if not isinstance(n, int) or n < 0:\n",
        "        return None  # No se puede calcular el factorial de un número negativo o decimal\n",
        "    elif n == 0:\n",
        "        #retorna 1.\n",
        "        return 1\n",
        "    else:\n",
        "        result = 1\n",
        "        # Ciclo for para calcular el factorial.\n",
        "        for i in range(1, n + 1):\n",
        "            # Multiplicación de los valores.\n",
        "            result *= i\n",
        "            # Retorna el resultado.\n",
        "        return result\n",
        "\n",
        "# Valor predefinido para calcular el factorial\n",
        "numero = 5\n",
        "# Llamada a la función factorial.\n",
        "resultado = factorial(numero)\n",
        "# Creación de un condicional if, que devuelve un mensaje cuando el resultado es negativo.\n",
        "if resultado is None:\n",
        "    print(\"No se puede calcular el factorial de un número negativo o decimal.\")\n",
        "else:\n",
        "    # Impresión del resultado del factorial.\n",
        "    print(f\"El factorial de {numero} es: {resultado}\")\n"
      ]
    }
  ]
}