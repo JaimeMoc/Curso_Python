{
  "nbformat": 4,
  "nbformat_minor": 0,
  "metadata": {
    "colab": {
      "provenance": []
    },
    "kernelspec": {
      "name": "python3",
      "display_name": "Python 3"
    },
    "language_info": {
      "name": "python"
    }
  },
  "cells": [
    {
      "cell_type": "markdown",
      "source": [
        "## Data Structures"
      ],
      "metadata": {
        "id": "YgzwXBlvSjX5"
      }
    },
    {
      "cell_type": "markdown",
      "source": [
        "Lists / Listas"
      ],
      "metadata": {
        "id": "HmF_OHwESn1d"
      }
    },
    {
      "cell_type": "code",
      "execution_count": 1,
      "metadata": {
        "colab": {
          "base_uri": "https://localhost:8080/"
        },
        "id": "zjfrUGCvSgpy",
        "outputId": "827c3b39-f2b7-47e8-efee-6b2132cb2f0f"
      },
      "outputs": [
        {
          "output_type": "stream",
          "name": "stdout",
          "text": [
            "[1, 2, 3, 4]\n"
          ]
        }
      ],
      "source": [
        "my_list = [1, 2, 3, 4]\n",
        "print(my_list)"
      ]
    },
    {
      "cell_type": "code",
      "source": [
        "my_list = ['list', 'of', 'strings']\n",
        "print(my_list)"
      ],
      "metadata": {
        "colab": {
          "base_uri": "https://localhost:8080/"
        },
        "id": "i7DallRIS6z5",
        "outputId": "0d748b23-3f66-4c19-f1c4-85d06533c008"
      },
      "execution_count": 2,
      "outputs": [
        {
          "output_type": "stream",
          "name": "stdout",
          "text": [
            "['list', 'of', 'strings']\n"
          ]
        }
      ]
    },
    {
      "cell_type": "code",
      "source": [
        "my_list = [1, 'list', False, []]\n",
        "print(my_list)"
      ],
      "metadata": {
        "colab": {
          "base_uri": "https://localhost:8080/"
        },
        "id": "BasN6vEOTDfS",
        "outputId": "e5ce8fc4-6374-4356-ebd3-590e5f58e436"
      },
      "execution_count": 3,
      "outputs": [
        {
          "output_type": "stream",
          "name": "stdout",
          "text": [
            "[1, 'list', False, []]\n"
          ]
        }
      ]
    },
    {
      "cell_type": "code",
      "source": [
        "my_list = [[1,2,3], [4,5,6], [7,8,9]]\n",
        "print(my_list)"
      ],
      "metadata": {
        "colab": {
          "base_uri": "https://localhost:8080/"
        },
        "id": "lqE7Pk3qTSap",
        "outputId": "555fe52e-5f88-4039-9db3-e4f460fee6fa"
      },
      "execution_count": 4,
      "outputs": [
        {
          "output_type": "stream",
          "name": "stdout",
          "text": [
            "[[1, 2, 3], [4, 5, 6], [7, 8, 9]]\n"
          ]
        }
      ]
    },
    {
      "cell_type": "markdown",
      "source": [
        "Observar la longitud de mi lista"
      ],
      "metadata": {
        "id": "E0riLRK9Tbj_"
      }
    },
    {
      "cell_type": "code",
      "source": [
        "len(my_list)"
      ],
      "metadata": {
        "colab": {
          "base_uri": "https://localhost:8080/"
        },
        "id": "00CdV-5yTd4i",
        "outputId": "825da59d-762e-4bc8-fe3c-ab9c932092d8"
      },
      "execution_count": 5,
      "outputs": [
        {
          "output_type": "execute_result",
          "data": {
            "text/plain": [
              "3"
            ]
          },
          "metadata": {},
          "execution_count": 5
        }
      ]
    },
    {
      "cell_type": "markdown",
      "source": [
        "Sets / Conjuntos"
      ],
      "metadata": {
        "id": "LPR4-gJRToFz"
      }
    },
    {
      "cell_type": "markdown",
      "source": [
        "Los elementos que contienen tienen que ser únicos."
      ],
      "metadata": {
        "id": "LAsm2mqpTsKg"
      }
    },
    {
      "cell_type": "code",
      "source": [
        "my_set = {1, 2, 3, 4}\n",
        "print(my_set)"
      ],
      "metadata": {
        "colab": {
          "base_uri": "https://localhost:8080/"
        },
        "id": "vLs2oOebTqLr",
        "outputId": "08c6f287-54af-4f84-995e-6f68f3ad707b"
      },
      "execution_count": 6,
      "outputs": [
        {
          "output_type": "stream",
          "name": "stdout",
          "text": [
            "{1, 2, 3, 4}\n"
          ]
        }
      ]
    },
    {
      "cell_type": "code",
      "source": [
        "type(my_set)"
      ],
      "metadata": {
        "colab": {
          "base_uri": "https://localhost:8080/"
        },
        "id": "UxsQZi2LT-sH",
        "outputId": "edd54568-e566-4d9b-92d3-a724f0c320e8"
      },
      "execution_count": 7,
      "outputs": [
        {
          "output_type": "execute_result",
          "data": {
            "text/plain": [
              "set"
            ]
          },
          "metadata": {},
          "execution_count": 7
        }
      ]
    },
    {
      "cell_type": "code",
      "source": [
        "len(my_set)"
      ],
      "metadata": {
        "colab": {
          "base_uri": "https://localhost:8080/"
        },
        "id": "CVejwFaTUBy-",
        "outputId": "04b578f8-96aa-4700-d625-7ab03f4a6f9c"
      },
      "execution_count": 8,
      "outputs": [
        {
          "output_type": "execute_result",
          "data": {
            "text/plain": [
              "4"
            ]
          },
          "metadata": {},
          "execution_count": 8
        }
      ]
    },
    {
      "cell_type": "code",
      "source": [
        "my_set = {1, 2, 3, 4, 3, 2}\n",
        "len(my_set)"
      ],
      "metadata": {
        "colab": {
          "base_uri": "https://localhost:8080/"
        },
        "id": "4ZIqsEMqUG3z",
        "outputId": "50ec681d-4c44-4562-9211-feb6a1fd410c"
      },
      "execution_count": 9,
      "outputs": [
        {
          "output_type": "execute_result",
          "data": {
            "text/plain": [
              "4"
            ]
          },
          "metadata": {},
          "execution_count": 9
        }
      ]
    },
    {
      "cell_type": "markdown",
      "source": [
        "Cuando tomas conjuntos repetibles como en este caso el dos o el 3, no agrega al segundo."
      ],
      "metadata": {
        "id": "7Cpc3QU3T6C3"
      }
    },
    {
      "cell_type": "markdown",
      "source": [
        "El orden de los elementos en una lista es muy importante."
      ],
      "metadata": {
        "id": "Rb4lFxAnUcyZ"
      }
    },
    {
      "cell_type": "code",
      "source": [
        "[1,2] == [1,2]"
      ],
      "metadata": {
        "colab": {
          "base_uri": "https://localhost:8080/"
        },
        "id": "rskYNYOxUtGk",
        "outputId": "872d1156-d685-4b68-d712-4159176f273d"
      },
      "execution_count": 10,
      "outputs": [
        {
          "output_type": "execute_result",
          "data": {
            "text/plain": [
              "True"
            ]
          },
          "metadata": {},
          "execution_count": 10
        }
      ]
    },
    {
      "cell_type": "code",
      "source": [
        "[1,2] == [2,1]"
      ],
      "metadata": {
        "colab": {
          "base_uri": "https://localhost:8080/"
        },
        "id": "xHg3GfwEUYj5",
        "outputId": "b38f0775-6059-44da-84f1-19d36f75c3dd"
      },
      "execution_count": 11,
      "outputs": [
        {
          "output_type": "execute_result",
          "data": {
            "text/plain": [
              "False"
            ]
          },
          "metadata": {},
          "execution_count": 11
        }
      ]
    },
    {
      "cell_type": "markdown",
      "source": [
        "Lo marca como Falso debido a que los elementos en la segunda lista es diferente."
      ],
      "metadata": {
        "id": "MmJThd8yUyuh"
      }
    },
    {
      "cell_type": "markdown",
      "source": [
        "El orden de los elementos en los conjuntos no importan."
      ],
      "metadata": {
        "id": "2V8dZSjAU9wP"
      }
    },
    {
      "cell_type": "markdown",
      "source": [
        "Tuples / Tuplas"
      ],
      "metadata": {
        "id": "eJWumcx4VID1"
      }
    },
    {
      "cell_type": "markdown",
      "source": [
        "Las tuplas se declaran entre paréntesis"
      ],
      "metadata": {
        "id": "PDld1CsSVKAA"
      }
    },
    {
      "cell_type": "code",
      "source": [
        "my_tuples = (1, 2, 3, 4)\n",
        "print(my_tuples)"
      ],
      "metadata": {
        "colab": {
          "base_uri": "https://localhost:8080/"
        },
        "id": "WIaSETdIU5rr",
        "outputId": "c93dcbca-e82a-436b-817b-cb4b437da545"
      },
      "execution_count": 12,
      "outputs": [
        {
          "output_type": "stream",
          "name": "stdout",
          "text": [
            "(1, 2, 3, 4)\n"
          ]
        }
      ]
    },
    {
      "cell_type": "code",
      "source": [
        "len (my_tuples)"
      ],
      "metadata": {
        "colab": {
          "base_uri": "https://localhost:8080/"
        },
        "id": "ES01kmuKVa09",
        "outputId": "95cbb587-c22c-4f7c-c86b-5b3b6c7b1327"
      },
      "execution_count": 13,
      "outputs": [
        {
          "output_type": "execute_result",
          "data": {
            "text/plain": [
              "4"
            ]
          },
          "metadata": {},
          "execution_count": 13
        }
      ]
    },
    {
      "cell_type": "markdown",
      "source": [
        "Son similares a las listas, tienen una longitud, puedes usar la función de len, el orden es igual de importante"
      ],
      "metadata": {
        "id": "yANRxQm-VPzp"
      }
    },
    {
      "cell_type": "code",
      "source": [
        "(2,1) == (1,2)"
      ],
      "metadata": {
        "colab": {
          "base_uri": "https://localhost:8080/"
        },
        "id": "aLeWhqzaViYe",
        "outputId": "206b92ad-bb54-4c36-cf0c-df5f5b39617e"
      },
      "execution_count": 14,
      "outputs": [
        {
          "output_type": "execute_result",
          "data": {
            "text/plain": [
              "False"
            ]
          },
          "metadata": {},
          "execution_count": 14
        }
      ]
    },
    {
      "cell_type": "markdown",
      "source": [
        "La diferencias de las tuplas es que no anexar ni agregar cosas a las tuplas."
      ],
      "metadata": {
        "id": "cJNyuF_sV7uG"
      }
    },
    {
      "cell_type": "code",
      "source": [
        "my_list.append(5)\n",
        "print(my_list)"
      ],
      "metadata": {
        "colab": {
          "base_uri": "https://localhost:8080/"
        },
        "id": "ml5Kk0xjWLKI",
        "outputId": "a65164d8-9c59-45ed-b373-30123d4504b4"
      },
      "execution_count": 15,
      "outputs": [
        {
          "output_type": "stream",
          "name": "stdout",
          "text": [
            "[[1, 2, 3], [4, 5, 6], [7, 8, 9], 5]\n"
          ]
        }
      ]
    },
    {
      "cell_type": "code",
      "source": [
        "my_tuples.append(4)"
      ],
      "metadata": {
        "colab": {
          "base_uri": "https://localhost:8080/",
          "height": 141
        },
        "id": "WwZ5g_A4WOUJ",
        "outputId": "8be854ee-4cee-4c2d-c19d-c650d16be3c4"
      },
      "execution_count": 16,
      "outputs": [
        {
          "output_type": "error",
          "ename": "AttributeError",
          "evalue": "'tuple' object has no attribute 'append'",
          "traceback": [
            "\u001b[0;31m---------------------------------------------------------------------------\u001b[0m",
            "\u001b[0;31mAttributeError\u001b[0m                            Traceback (most recent call last)",
            "\u001b[0;32m<ipython-input-16-b7e46d6bac61>\u001b[0m in \u001b[0;36m<cell line: 1>\u001b[0;34m()\u001b[0m\n\u001b[0;32m----> 1\u001b[0;31m \u001b[0mmy_tuples\u001b[0m\u001b[0;34m.\u001b[0m\u001b[0mappend\u001b[0m\u001b[0;34m(\u001b[0m\u001b[0;36m4\u001b[0m\u001b[0;34m)\u001b[0m\u001b[0;34m\u001b[0m\u001b[0;34m\u001b[0m\u001b[0m\n\u001b[0m",
            "\u001b[0;31mAttributeError\u001b[0m: 'tuple' object has no attribute 'append'"
          ]
        }
      ]
    },
    {
      "cell_type": "markdown",
      "source": [
        "Las tuplas no se pueden modificar"
      ],
      "metadata": {
        "id": "OEbajTcmWX_Q"
      }
    },
    {
      "cell_type": "markdown",
      "source": [
        "Recuerda que, cómo las computadoras almacenan listas en la memoria. Si la computadora sabe que potencialmente puede agregar cosas a una lista, esa ista aumentará de tamaño por lo que, Python intentará preasignar una porción de memoria más grande para esa lista de lo que se requiere"
      ],
      "metadata": {
        "id": "bh5X4d8jWels"
      }
    },
    {
      "cell_type": "markdown",
      "source": [
        "Con las Tuplas, Python sabe que nunca se va a poder agrefarle algo, por lo que, usa exactamente la cantidad de memoria que requiere para almacenarlas."
      ],
      "metadata": {
        "id": "VBJhYVGXW2M4"
      }
    },
    {
      "cell_type": "markdown",
      "source": [
        "Las tuplas se utilizan a menudo para, por ejemplo; almacenar pares de coordenadas XY."
      ],
      "metadata": {
        "id": "5O5ny7e-XDzd"
      }
    },
    {
      "cell_type": "markdown",
      "source": [
        "Dictionaries / Diccionarios"
      ],
      "metadata": {
        "id": "mT2tYa4oVmFk"
      }
    },
    {
      "cell_type": "markdown",
      "source": [
        "Recuerda los diccionarios de la vida real, libros grandes, busca palabras en ellos. Cuando buscas una palabra, obtienes una definición de esa palabra."
      ],
      "metadata": {
        "id": "iPilQEePXOf7"
      }
    },
    {
      "cell_type": "markdown",
      "source": [],
      "metadata": {
        "id": "P6XFvLD3XcEq"
      }
    },
    {
      "cell_type": "code",
      "source": [
        "my_dictionary = {\n",
        "    'apple' : 'A red fruit',\n",
        "    'banana' : 'A yellow fruit',\n",
        "    'orange' : 'A orange fruit'\n",
        "}"
      ],
      "metadata": {
        "id": "eOYqHbKbVwxX"
      },
      "execution_count": 19,
      "outputs": []
    },
    {
      "cell_type": "markdown",
      "source": [
        "Se declaran con corchetes, como conjuntos. Tienen estos pares clave-valor dentro de ellos."
      ],
      "metadata": {
        "id": "18cdjtxMYCpg"
      }
    },
    {
      "cell_type": "markdown",
      "source": [
        "Claves unicas, por lo que si tomamoes este diccionario, y se le agrega una segunda definición."
      ],
      "metadata": {
        "id": "R2knSA6lYKp3"
      }
    },
    {
      "cell_type": "markdown",
      "source": [
        "El orden con los conjuntos, tanto conjuntos como diccionarios, no importa, puedes poner estas claves en el orden que quieras.\n",
        "Son como los conjuntos. Ambos se definen con llaves."
      ],
      "metadata": {
        "id": "JKfHNkGqYXUi"
      }
    },
    {
      "cell_type": "code",
      "source": [
        "my_dictionary['apple']"
      ],
      "metadata": {
        "colab": {
          "base_uri": "https://localhost:8080/",
          "height": 35
        },
        "id": "A7IAFkgjXxsq",
        "outputId": "bc26d2e0-dae4-4eb6-c883-5a5b6fbc75dc"
      },
      "execution_count": 20,
      "outputs": [
        {
          "output_type": "execute_result",
          "data": {
            "text/plain": [
              "'A red fruit'"
            ],
            "application/vnd.google.colaboratory.intrinsic+json": {
              "type": "string"
            }
          },
          "metadata": {},
          "execution_count": 20
        }
      ]
    }
  ]
}
