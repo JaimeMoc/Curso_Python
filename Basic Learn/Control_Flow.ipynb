{
  "nbformat": 4,
  "nbformat_minor": 0,
  "metadata": {
    "colab": {
      "provenance": []
    },
    "kernelspec": {
      "name": "python3",
      "display_name": "Python 3"
    },
    "language_info": {
      "name": "python"
    }
  },
  "cells": [
    {
      "cell_type": "markdown",
      "source": [
        "If / Else statements"
      ],
      "metadata": {
        "id": "_l0nMmyDvFFQ"
      }
    },
    {
      "cell_type": "code",
      "execution_count": 5,
      "metadata": {
        "colab": {
          "base_uri": "https://localhost:8080/"
        },
        "id": "G0X_Q7EMvBJb",
        "outputId": "bcfdd1d8-8ee2-4d16-9156-600d08946657"
      },
      "outputs": [
        {
          "output_type": "stream",
          "name": "stdout",
          "text": [
            "It is true!\n",
            "Also print this\n",
            "Always print this\n"
          ]
        }
      ],
      "source": [
        "a = True\n",
        "if a:\n",
        "  print('It is true!')\n",
        "  print('Also print this')\n",
        "else:\n",
        "  print('It is false!')\n",
        "print('Always print this')"
      ]
    },
    {
      "cell_type": "code",
      "source": [
        "a = True\n",
        "b = False\n",
        "c = True\n",
        "if a:\n",
        "  print('It is true!')\n",
        "  print('Also print this')\n",
        "  if b:\n",
        "    print('Both is true')\n",
        "    if c:\n",
        "      print('All three are true')\n",
        "else:\n",
        "  print('It is false!')\n",
        "print('Always print this')"
      ],
      "metadata": {
        "colab": {
          "base_uri": "https://localhost:8080/"
        },
        "id": "GINUY3qZwrwT",
        "outputId": "0460f440-f2b5-44e8-c398-1684b40a6ca0"
      },
      "execution_count": 2,
      "outputs": [
        {
          "output_type": "stream",
          "name": "stdout",
          "text": [
            "It is true!\n",
            "Also print this\n",
            "Always print this\n"
          ]
        }
      ]
    },
    {
      "cell_type": "markdown",
      "source": [
        "For loops"
      ],
      "metadata": {
        "id": "rh9yjJ1Ov9RA"
      }
    },
    {
      "cell_type": "markdown",
      "source": [
        "Los bucles o fors van a iterar sobre lo que llamamos iterables en Python.\n",
        "Una lista es un tipo de iterable\n"
      ],
      "metadata": {
        "id": "v8Z9pp0Qk0Rk"
      }
    },
    {
      "cell_type": "code",
      "source": [
        "a = [1,2,3,4,5]\n",
        "for item in a :\n",
        "  print(item)"
      ],
      "metadata": {
        "colab": {
          "base_uri": "https://localhost:8080/"
        },
        "id": "GSpSAi3akzk3",
        "outputId": "54bc72cb-c53d-4afb-c00e-bb5748f7f65d"
      },
      "execution_count": 3,
      "outputs": [
        {
          "output_type": "stream",
          "name": "stdout",
          "text": [
            "1\n",
            "2\n",
            "3\n",
            "4\n",
            "5\n"
          ]
        }
      ]
    },
    {
      "cell_type": "code",
      "source": [
        "4 in a"
      ],
      "metadata": {
        "colab": {
          "base_uri": "https://localhost:8080/"
        },
        "id": "-synUsuHm_6I",
        "outputId": "d577791a-00c5-4beb-d9b9-fb582e97ecf3"
      },
      "execution_count": 4,
      "outputs": [
        {
          "output_type": "execute_result",
          "data": {
            "text/plain": [
              "True"
            ]
          },
          "metadata": {},
          "execution_count": 4
        }
      ]
    },
    {
      "cell_type": "markdown",
      "source": [
        "Nos dice que para cada elemento de la lista, hay algo con eso. La otra cosa a tener en cuenta es que el elemento aqui es solo una variable que estamos declarando en esta línea."
      ],
      "metadata": {
        "id": "tTa7Tr1vnF_u"
      }
    },
    {
      "cell_type": "markdown",
      "source": [
        "While loops"
      ],
      "metadata": {
        "id": "UnX0RfJUnb-v"
      }
    },
    {
      "cell_type": "markdown",
      "source": [
        "Solo recuerda cambiar el nombre de la variable dentro del programa. Un bucle while es similar a un bucle for, exceptuando que no itera sobre los elementos de una lista.\n",
        "\n",
        "Sigue repientiendose hasta que el booleano pasa a ser falso."
      ],
      "metadata": {
        "id": "ltPgSFOhngYb"
      }
    },
    {
      "cell_type": "code",
      "source": [
        "a = 0\n",
        "while a < 5:\n",
        "  print(a)\n",
        "  a = a + 1"
      ],
      "metadata": {
        "colab": {
          "base_uri": "https://localhost:8080/"
        },
        "id": "6vaD25yEnAx8",
        "outputId": "a8c983aa-9f91-4d9b-d5db-9e084c705de6"
      },
      "execution_count": 5,
      "outputs": [
        {
          "output_type": "stream",
          "name": "stdout",
          "text": [
            "0\n",
            "1\n",
            "2\n",
            "3\n",
            "4\n"
          ]
        }
      ]
    },
    {
      "cell_type": "markdown",
      "source": [
        "Generalmente se desea usar bucles mientras las condiciones están cambiando o se ven afectadas por el bloque en el bucle while."
      ],
      "metadata": {
        "id": "JyejqT1zoG9t"
      }
    }
  ]
}