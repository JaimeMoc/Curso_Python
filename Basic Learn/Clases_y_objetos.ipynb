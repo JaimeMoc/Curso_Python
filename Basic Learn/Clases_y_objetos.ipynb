{
  "nbformat": 4,
  "nbformat_minor": 0,
  "metadata": {
    "colab": {
      "provenance": []
    },
    "kernelspec": {
      "name": "python3",
      "display_name": "Python 3"
    },
    "language_info": {
      "name": "python"
    }
  },
  "cells": [
    {
      "cell_type": "markdown",
      "source": [
        "Clases"
      ],
      "metadata": {
        "id": "WR5TEgM66Kyl"
      }
    },
    {
      "cell_type": "markdown",
      "source": [
        "Una clase en Python es una optima forma de manejar etiquetas y colecciones organizadas relacionadas con funciones y atributos."
      ],
      "metadata": {
        "id": "HNfV_ERZ6NVo"
      }
    },
    {
      "cell_type": "markdown",
      "source": [
        "Puedes usar una letra mayúscula para los nombre de clase, siendo lo que lo diferencia de los nombres de las variables.  "
      ],
      "metadata": {
        "id": "8n2SPyoQ6w6a"
      }
    },
    {
      "cell_type": "code",
      "execution_count": 1,
      "metadata": {
        "id": "CDiQoZVPt_Wq"
      },
      "outputs": [],
      "source": [
        "class Dog:\n",
        "  def __init__(self):\n",
        "    self.name = 'Rover'\n",
        "    self.legs= 4\n",
        "\n",
        "  def speak(self):\n",
        "    print(self.name + ' says: Bark!')\n"
      ]
    },
    {
      "cell_type": "code",
      "source": [
        "my_dog = Dog()\n",
        "another_dog = Dog()"
      ],
      "metadata": {
        "id": "ctQtWzPZ8DJy"
      },
      "execution_count": 4,
      "outputs": []
    },
    {
      "cell_type": "code",
      "source": [
        "my_dog.speak()"
      ],
      "metadata": {
        "colab": {
          "base_uri": "https://localhost:8080/"
        },
        "id": "gePeFhSz8ioz",
        "outputId": "1c4fa22a-445e-4ed3-ba97-7bf80eb5481e"
      },
      "execution_count": 3,
      "outputs": [
        {
          "output_type": "stream",
          "name": "stdout",
          "text": [
            "Rover says: Bark!\n"
          ]
        }
      ]
    },
    {
      "cell_type": "code",
      "source": [
        "another_dog.speak()"
      ],
      "metadata": {
        "colab": {
          "base_uri": "https://localhost:8080/"
        },
        "id": "9vxPO2br8wVb",
        "outputId": "65dbc446-3235-4dd6-e34d-29c9736cf2cf"
      },
      "execution_count": 5,
      "outputs": [
        {
          "output_type": "stream",
          "name": "stdout",
          "text": [
            "Rover says: Bark!\n"
          ]
        }
      ]
    },
    {
      "cell_type": "markdown",
      "source": [
        "Init significa inicialización, y esta función se llama cada vez que se crea una instancia de la clase Dog. Tiene dos guiones bajos a cada lado, y esta es una cosa especialmente definida por Python, por lo que la computadora, reconocerá esto como la función de inicialización."
      ],
      "metadata": {
        "id": "mMAnbuNS7CXY"
      }
    },
    {
      "cell_type": "markdown",
      "source": [
        "Variable self, my_dog es una instancia de la clase Dog"
      ],
      "metadata": {
        "id": "lFJwM03T7aXB"
      }
    },
    {
      "cell_type": "markdown",
      "source": [
        "La forma en que funciona Python es que si tienes una instancia de clase, como estas dos cosas son instancias de la clase Dog, y usas la sintaxis de la función de punto. Actua como si tu instancia se pasara realmente como la primera variable de esta función."
      ],
      "metadata": {
        "id": "wnl7ii9P9Jf4"
      }
    },
    {
      "cell_type": "markdown",
      "source": [
        "La variable self es literalmente la instancia de la clase en la que se llamó a la función.\n",
        "\n",
        "Programación orientada a objetos, estos es lo que es. Estas instancias de clases también se denominan objetos.\n",
        "\n",
        "Estos son objetos de perros, las variables dentro de estas clases se denominan atributos, de los objetos.\n",
        "Las funciones aqui se denominan métodos y se pueden llamar métodos de clases.  "
      ],
      "metadata": {
        "id": "l0OXxdzk9eKB"
      }
    },
    {
      "cell_type": "code",
      "source": [],
      "metadata": {
        "id": "3ik0j1um8dO7"
      },
      "execution_count": null,
      "outputs": []
    }
  ]
}